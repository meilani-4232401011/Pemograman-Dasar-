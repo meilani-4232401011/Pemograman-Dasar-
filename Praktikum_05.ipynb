{
  "nbformat": 4,
  "nbformat_minor": 0,
  "metadata": {
    "colab": {
      "provenance": [],
      "authorship_tag": "ABX9TyPyncuICMDisRkdRYP3eIpp",
      "include_colab_link": true
    },
    "kernelspec": {
      "name": "python3",
      "display_name": "Python 3"
    },
    "language_info": {
      "name": "python"
    }
  },
  "cells": [
    {
      "cell_type": "markdown",
      "metadata": {
        "id": "view-in-github",
        "colab_type": "text"
      },
      "source": [
        "<a href=\"https://colab.research.google.com/github/meilani-4232401011/Pemograman-Dasar-/blob/main/Praktikum_05.ipynb\" target=\"_parent\"><img src=\"https://colab.research.google.com/assets/colab-badge.svg\" alt=\"Open In Colab\"/></a>"
      ]
    },
    {
      "cell_type": "code",
      "execution_count": null,
      "metadata": {
        "colab": {
          "base_uri": "https://localhost:8080/"
        },
        "id": "C9pFxj86lSDu",
        "outputId": "d3c377ff-d3c8-4dbb-bec5-61f1d54134f6"
      },
      "outputs": [
        {
          "output_type": "stream",
          "name": "stdout",
          "text": [
            "--- Soal 1 ---\n",
            "2\n",
            "4\n",
            "6\n",
            "8\n",
            "10\n",
            "12\n",
            "14\n",
            "16\n",
            "18\n",
            "20\n",
            "22\n",
            "24\n",
            "26\n",
            "28\n",
            "30\n",
            "32\n",
            "34\n",
            "36\n",
            "38\n",
            "40\n",
            "42\n",
            "44\n",
            "46\n",
            "48\n",
            "50\n"
          ]
        }
      ],
      "source": [
        "# Soal 1: Mencetak Bilangan Ganjil dengan Fungsi Range\n",
        "print(\"--- Soal 1 ---\")\n",
        "# Modifikasilah agar bisa menampilkan angka genap dia antar 1-50\n",
        "for angka in range(2, 51, 2):\n",
        "    print(angka)\n"
      ]
    },
    {
      "cell_type": "code",
      "source": [
        "# Soal 2: Pemberhentian Proses\n",
        "# Modifikasilah agar bisa memberhentikan proses dengan memasukan NIM anda\n",
        "print(\"--- Soal 2 ---\")\n",
        "kode_berhenti = 4232401011\n",
        "input_pengguna = 0 # Inisialisasi awal\n",
        "\n",
        "while input_pengguna != kode_berhenti:\n",
        "    try:\n",
        "        input_pengguna = int(input(\"Masukkan angka (4232401011 untuk berhenti): \"))\n",
        "    except ValueError:\n",
        "        print(\"Input tidak valid. Harap masukkan angka.\")\n",
        "\n",
        "print(\"Perulangan telah dihentikan karena NIM sudah dimasukan\")\n"
      ],
      "metadata": {
        "colab": {
          "base_uri": "https://localhost:8080/"
        },
        "id": "s57Sr8nLoc06",
        "outputId": "7ab56660-eade-480a-a945-9b48c11bfeb6"
      },
      "execution_count": null,
      "outputs": [
        {
          "output_type": "stream",
          "name": "stdout",
          "text": [
            "--- Soal 2 ---\n",
            "Masukkan angka (4232401011 untuk berhenti): 4232401011\n",
            "Perulangan telah dihentikan karena NIM sudah dimasukan\n"
          ]
        }
      ]
    },
    {
      "cell_type": "code",
      "source": [
        "# Soal 3: Menghitung Total Belanja dari Daftar\n",
        "# Modifikasilah agar harga belanjaan minimal 10 item pada harga_barang\n",
        "print(\"--- Soal 3 ---\")\n",
        "harga_barang = [15000, 25000, 10000, 5000, 35000, 57000, 60000, 8000, 50000, 12000]\n",
        "total_belanja = 0\n",
        "\n",
        "for harga in harga_barang:\n",
        "    total_belanja += harga\n",
        "\n",
        "print(\"Total biaya belanja adalah:\", total_belanja)"
      ],
      "metadata": {
        "colab": {
          "base_uri": "https://localhost:8080/"
        },
        "id": "VBSN-QYspXru",
        "outputId": "69a23bfe-b22f-4a4b-a38f-b3efc41a6c9b"
      },
      "execution_count": null,
      "outputs": [
        {
          "output_type": "stream",
          "name": "stdout",
          "text": [
            "--- Soal 3 ---\n",
            "Total biaya belanja adalah: 277000\n"
          ]
        }
      ]
    },
    {
      "cell_type": "code",
      "source": [
        "# Soal 4: Batasan Percobaan (Limitasi Iterasi)\n",
        "# Buatlah perulangan while\n",
        "print(\"--- Soal 4 ---\")\n",
        "percobaan_maksimal = 3\n",
        "percobaan_saat_ini = 1\n",
        "\n",
        "while percobaan_saat_ini <= percobaan_maksimal:\n",
        "    print(f\"Percobaan ke-{percobaan_saat_ini}...\")\n",
        "    # Asumsi ada logika input password di sini\n",
        "    percobaan_saat_ini += 1\n",
        "\n",
        "if percobaan_saat_ini == percobaan_maksimal + 1:\n",
        "    print(\"Kesempatan habis.\")\n",
        "else:\n",
        "    print(\"Akses diterima.\")"
      ],
      "metadata": {
        "colab": {
          "base_uri": "https://localhost:8080/"
        },
        "id": "dRDgXbW-qUQD",
        "outputId": "22184af6-8878-4828-8d6e-bc2ccd040f66"
      },
      "execution_count": null,
      "outputs": [
        {
          "output_type": "stream",
          "name": "stdout",
          "text": [
            "--- Soal 4 ---\n",
            "Percobaan ke-1...\n",
            "Percobaan ke-2...\n",
            "Percobaan ke-3...\n",
            "Kesempatan habis.\n"
          ]
        }
      ]
    },
    {
      "cell_type": "code",
      "source": [
        "# soal 5\n",
        "print(\"--- Soal 5 ---\")\n",
        "nama_proyek = \"Politeknik Negeri Batam\"\n",
        "hasil_output = \"\"\n",
        "\n",
        "for karakter in nama_proyek:\n",
        "    hasil_output += karakter + \"-\"\n",
        "\n",
        "print(hasil_output) # Output: P-R-A-K-T-I-K-U-M-"
      ],
      "metadata": {
        "colab": {
          "base_uri": "https://localhost:8080/"
        },
        "id": "-J5kzJP4VLH0",
        "outputId": "bf0477a2-1a7b-45f1-a595-6e9263ba93e2"
      },
      "execution_count": null,
      "outputs": [
        {
          "output_type": "stream",
          "name": "stdout",
          "text": [
            "--- Soal 5 ---\n",
            "P-o-l-i-t-e-k-n-i-k- -N-e-g-e-r-i- -B-a-t-a-m-\n"
          ]
        }
      ]
    },
    {
      "cell_type": "code",
      "source": [
        "# soal 6\n",
        "print(\"--- Soal 6 ---\")\n",
        "# Countdown dari 5 ke 1\n",
        "for i in range(255, 0, -1):\n",
        "    print(i)"
      ],
      "metadata": {
        "colab": {
          "base_uri": "https://localhost:8080/"
        },
        "id": "JNokWJHOf5Xj",
        "outputId": "82a79d32-75ba-4ca6-b0d8-aa0f8f43f3ee"
      },
      "execution_count": null,
      "outputs": [
        {
          "output_type": "stream",
          "name": "stdout",
          "text": [
            "--- Soal 6 ---\n",
            "255\n",
            "254\n",
            "253\n",
            "252\n",
            "251\n",
            "250\n",
            "249\n",
            "248\n",
            "247\n",
            "246\n",
            "245\n",
            "244\n",
            "243\n",
            "242\n",
            "241\n",
            "240\n",
            "239\n",
            "238\n",
            "237\n",
            "236\n",
            "235\n",
            "234\n",
            "233\n",
            "232\n",
            "231\n",
            "230\n",
            "229\n",
            "228\n",
            "227\n",
            "226\n",
            "225\n",
            "224\n",
            "223\n",
            "222\n",
            "221\n",
            "220\n",
            "219\n",
            "218\n",
            "217\n",
            "216\n",
            "215\n",
            "214\n",
            "213\n",
            "212\n",
            "211\n",
            "210\n",
            "209\n",
            "208\n",
            "207\n",
            "206\n",
            "205\n",
            "204\n",
            "203\n",
            "202\n",
            "201\n",
            "200\n",
            "199\n",
            "198\n",
            "197\n",
            "196\n",
            "195\n",
            "194\n",
            "193\n",
            "192\n",
            "191\n",
            "190\n",
            "189\n",
            "188\n",
            "187\n",
            "186\n",
            "185\n",
            "184\n",
            "183\n",
            "182\n",
            "181\n",
            "180\n",
            "179\n",
            "178\n",
            "177\n",
            "176\n",
            "175\n",
            "174\n",
            "173\n",
            "172\n",
            "171\n",
            "170\n",
            "169\n",
            "168\n",
            "167\n",
            "166\n",
            "165\n",
            "164\n",
            "163\n",
            "162\n",
            "161\n",
            "160\n",
            "159\n",
            "158\n",
            "157\n",
            "156\n",
            "155\n",
            "154\n",
            "153\n",
            "152\n",
            "151\n",
            "150\n",
            "149\n",
            "148\n",
            "147\n",
            "146\n",
            "145\n",
            "144\n",
            "143\n",
            "142\n",
            "141\n",
            "140\n",
            "139\n",
            "138\n",
            "137\n",
            "136\n",
            "135\n",
            "134\n",
            "133\n",
            "132\n",
            "131\n",
            "130\n",
            "129\n",
            "128\n",
            "127\n",
            "126\n",
            "125\n",
            "124\n",
            "123\n",
            "122\n",
            "121\n",
            "120\n",
            "119\n",
            "118\n",
            "117\n",
            "116\n",
            "115\n",
            "114\n",
            "113\n",
            "112\n",
            "111\n",
            "110\n",
            "109\n",
            "108\n",
            "107\n",
            "106\n",
            "105\n",
            "104\n",
            "103\n",
            "102\n",
            "101\n",
            "100\n",
            "99\n",
            "98\n",
            "97\n",
            "96\n",
            "95\n",
            "94\n",
            "93\n",
            "92\n",
            "91\n",
            "90\n",
            "89\n",
            "88\n",
            "87\n",
            "86\n",
            "85\n",
            "84\n",
            "83\n",
            "82\n",
            "81\n",
            "80\n",
            "79\n",
            "78\n",
            "77\n",
            "76\n",
            "75\n",
            "74\n",
            "73\n",
            "72\n",
            "71\n",
            "70\n",
            "69\n",
            "68\n",
            "67\n",
            "66\n",
            "65\n",
            "64\n",
            "63\n",
            "62\n",
            "61\n",
            "60\n",
            "59\n",
            "58\n",
            "57\n",
            "56\n",
            "55\n",
            "54\n",
            "53\n",
            "52\n",
            "51\n",
            "50\n",
            "49\n",
            "48\n",
            "47\n",
            "46\n",
            "45\n",
            "44\n",
            "43\n",
            "42\n",
            "41\n",
            "40\n",
            "39\n",
            "38\n",
            "37\n",
            "36\n",
            "35\n",
            "34\n",
            "33\n",
            "32\n",
            "31\n",
            "30\n",
            "29\n",
            "28\n",
            "27\n",
            "26\n",
            "25\n",
            "24\n",
            "23\n",
            "22\n",
            "21\n",
            "20\n",
            "19\n",
            "18\n",
            "17\n",
            "16\n",
            "15\n",
            "14\n",
            "13\n",
            "12\n",
            "11\n",
            "10\n",
            "9\n",
            "8\n",
            "7\n",
            "6\n",
            "5\n",
            "4\n",
            "3\n",
            "2\n",
            "1\n"
          ]
        }
      ]
    },
    {
      "cell_type": "code",
      "source": [
        "# soal 7\n",
        "print(\"--- Soal 7 ---\")\n",
        "kelurahan = [\"Baloi Permai\", \"Belian\", \"Sukajadi\", \"Sungai Panas\", \"Taman Baloi\", \"Teluk Tering\", \"Batu Merah\", \"Sungai Jodoh\", \"Tiban Lama\", \"Batu Besar\"]\n",
        "\n",
        "for i, nama in enumerate (kelurahan):\n",
        "    # i adalah indeks, nama adalah elemen\n",
        "    print(f\"kelurahan ke-{i + 1}: {nama}\")"
      ],
      "metadata": {
        "colab": {
          "base_uri": "https://localhost:8080/"
        },
        "id": "rEVGIzzcga-2",
        "outputId": "be555ecc-8ae3-4d00-ebca-7fdd85d074ab"
      },
      "execution_count": null,
      "outputs": [
        {
          "output_type": "stream",
          "name": "stdout",
          "text": [
            "--- Soal 7 ---\n",
            "kelurahan ke-1: Baloi Permai\n",
            "kelurahan ke-2: Belian\n",
            "kelurahan ke-3: Sukajadi\n",
            "kelurahan ke-4: Sungai Panas\n",
            "kelurahan ke-5: Taman Baloi\n",
            "kelurahan ke-6: Teluk Tering\n",
            "kelurahan ke-7: Batu Merah\n",
            "kelurahan ke-8: Sungai Jodoh\n",
            "kelurahan ke-9: Tiban Lama\n",
            "kelurahan ke-10: Batu Besar\n"
          ]
        }
      ]
    },
    {
      "cell_type": "code",
      "source": [
        "# soal 8\n",
        "print(\"--- Soal 8 ---\")\n",
        "data_angka = [10, 20, 30, 0, 50, 60]\n",
        "\n",
        "for angka in data_angka:\n",
        "    if angka == 0 :\n",
        "        break\n",
        "    print(angka)\n",
        "\n",
        "print(\"Program berhenti karena angka -1 ditemukan.\")"
      ],
      "metadata": {
        "colab": {
          "base_uri": "https://localhost:8080/"
        },
        "id": "pmrjO8EL9uIE",
        "outputId": "2351c5ee-2c14-4255-eca3-c1b357d43617"
      },
      "execution_count": null,
      "outputs": [
        {
          "output_type": "stream",
          "name": "stdout",
          "text": [
            "--- Soal 8 ---\n",
            "10\n",
            "20\n",
            "30\n",
            "Program berhenti karena angka -1 ditemukan.\n"
          ]
        }
      ]
    },
    {
      "cell_type": "code",
      "source": [
        "# soal 9\n",
        "print(\"--- Soal 9 ---\")\n",
        "total = 0\n",
        "bilangan = 1\n",
        "batas = 20\n",
        "\n",
        "while total <= batas:\n",
        "    total += bilangan\n",
        "    bilangan += 1\n",
        "\n",
        "print(\"Total terakhir:\", total)"
      ],
      "metadata": {
        "colab": {
          "base_uri": "https://localhost:8080/"
        },
        "id": "4LPSI7n0-r7N",
        "outputId": "6fb4d9b8-016e-4626-9658-186909b40b72"
      },
      "execution_count": null,
      "outputs": [
        {
          "output_type": "stream",
          "name": "stdout",
          "text": [
            "--- Soal 9 ---\n",
            "Total terakhir: 21\n"
          ]
        }
      ]
    },
    {
      "cell_type": "code",
      "source": [
        "# soal 10\n",
        "print(\"--- Soal 10 ---\")\n",
        "jumlah_baris = 3\n",
        "\n",
        "for baris in range(jumlah_baris):\n",
        "    baris_teks = \"\"\n",
        "    for kolom in range(1):\n",
        "        baris_teks += \"Python \"\n",
        "    print(baris_teks)\n",
        "\n",
        "# Output:\n",
        "# Python\n",
        "# Python\n",
        "# Python"
      ],
      "metadata": {
        "colab": {
          "base_uri": "https://localhost:8080/"
        },
        "id": "wjCULp3a_HWJ",
        "outputId": "7a0510b3-92fc-4eab-e039-08348a0f0df0"
      },
      "execution_count": null,
      "outputs": [
        {
          "output_type": "stream",
          "name": "stdout",
          "text": [
            "--- Soal 10 ---\n",
            "Python \n",
            "Python \n",
            "Python \n"
          ]
        }
      ]
    },
    {
      "cell_type": "code",
      "source": [
        "# praktikum\n",
        "for iterasi in range (1, 11):\n",
        "  print(\"hello polibatam\")"
      ],
      "metadata": {
        "colab": {
          "base_uri": "https://localhost:8080/"
        },
        "id": "Lk0eBctaVPfj",
        "outputId": "50fb727c-27f3-4151-8f0a-a2900a5e3e9e"
      },
      "execution_count": null,
      "outputs": [
        {
          "output_type": "stream",
          "name": "stdout",
          "text": [
            "hello polibatam\n",
            "hello polibatam\n",
            "hello polibatam\n",
            "hello polibatam\n",
            "hello polibatam\n",
            "hello polibatam\n",
            "hello polibatam\n",
            "hello polibatam\n",
            "hello polibatam\n",
            "hello polibatam\n"
          ]
        }
      ]
    },
    {
      "cell_type": "code",
      "source": [
        "# praktikum\n",
        "for iterasi in range (1, 11, 1):\n",
        "  print(\"hello polibatam\")"
      ],
      "metadata": {
        "colab": {
          "base_uri": "https://localhost:8080/"
        },
        "id": "9_xUoeQnVuqg",
        "outputId": "dec2feae-9b40-4701-9860-21f3d10662a1"
      },
      "execution_count": null,
      "outputs": [
        {
          "output_type": "stream",
          "name": "stdout",
          "text": [
            "hello polibatam\n",
            "hello polibatam\n",
            "hello polibatam\n",
            "hello polibatam\n",
            "hello polibatam\n",
            "hello polibatam\n",
            "hello polibatam\n",
            "hello polibatam\n",
            "hello polibatam\n",
            "hello polibatam\n"
          ]
        }
      ]
    },
    {
      "cell_type": "code",
      "source": [
        "# praktikum\n",
        "# for loop dengan range\n",
        "for i in range (5):\n",
        "  print(f\"iterasi ke-{i + 1}\")\n",
        "\n",
        "# for loop dengan list\n",
        "buah =[\"apel\", \"jeruk\", \"pisang\"]\n",
        "for item in buah:\n",
        "  print(f\"saya suka {item}\")\n",
        "\n",
        "# for loop dengan enumerate\n",
        "for index, item in enumerate (buah):\n",
        "  print(f\"{index + 1}. {item}\")"
      ],
      "metadata": {
        "colab": {
          "base_uri": "https://localhost:8080/"
        },
        "id": "iKyU6dNCV-pK",
        "outputId": "1215957b-f4be-432d-b17f-78d7e93de1ef"
      },
      "execution_count": null,
      "outputs": [
        {
          "output_type": "stream",
          "name": "stdout",
          "text": [
            "iterasi ke-1\n",
            "iterasi ke-2\n",
            "iterasi ke-3\n",
            "iterasi ke-4\n",
            "iterasi ke-5\n",
            "saya suka apel\n",
            "saya suka jeruk\n",
            "saya suka pisang\n",
            "1. apel\n",
            "2. jeruk\n",
            "3. pisang\n"
          ]
        }
      ]
    },
    {
      "cell_type": "code",
      "source": [
        "# praktikum\n",
        "nilai = 0\n",
        "while nilai <10:\n",
        "  print(\"hallo polibatam!\")\n",
        "  nilai = nilai+1\n",
        "else:\n",
        "  print(\"perulangan while selesai hingga akhir\")"
      ],
      "metadata": {
        "colab": {
          "base_uri": "https://localhost:8080/"
        },
        "id": "ZMcFHg_dYPoB",
        "outputId": "acd5533a-e346-4ca0-ab65-39431a934f57"
      },
      "execution_count": null,
      "outputs": [
        {
          "output_type": "stream",
          "name": "stdout",
          "text": [
            "hallo polibatam!\n",
            "hallo polibatam!\n",
            "hallo polibatam!\n",
            "hallo polibatam!\n",
            "hallo polibatam!\n",
            "hallo polibatam!\n",
            "hallo polibatam!\n",
            "hallo polibatam!\n",
            "hallo polibatam!\n",
            "hallo polibatam!\n",
            "perulangan while selesai hingga akhir\n"
          ]
        }
      ]
    },
    {
      "cell_type": "code",
      "source": [
        "# praktikum contoh program while\n",
        "# while loop sederhana\n",
        "angka = 1\n",
        "while angka <= 5:\n",
        "  print(f\"angka: {angka}\")\n",
        "  angka +=1\n",
        "\n",
        "# while dengan input\n",
        "jawaban = \" \"\n",
        "while jawaban != \"selesai\":\n",
        "  jawaban = input(\"ketik 'selesai' untuk berhenti: \")\n",
        "  if jawaban != \"selesai\":\n",
        "    print(f\"kamu mengetik: {jawaban}\")\n",
        "print(\"program selesai!\")"
      ],
      "metadata": {
        "colab": {
          "base_uri": "https://localhost:8080/"
        },
        "id": "Yq2XGLv3Y9Br",
        "outputId": "27b2eb64-ead0-44ca-90ff-4be1b231395f"
      },
      "execution_count": null,
      "outputs": [
        {
          "output_type": "stream",
          "name": "stdout",
          "text": [
            "angka: 1\n",
            "angka: 2\n",
            "angka: 3\n",
            "angka: 4\n",
            "angka: 5\n",
            "ketik 'selesai' untuk berhenti: selesai\n",
            "program selesai!\n"
          ]
        }
      ]
    },
    {
      "cell_type": "code",
      "source": [
        "# praktikum\n",
        "for nilai in range(10):\n",
        "  print(\"halo polibatam!\")\n",
        "  if nilai == 5:\n",
        "    break\n",
        "\n",
        "else:\n",
        "  print(\"iterasi while selesai hingga akhir!\")"
      ],
      "metadata": {
        "colab": {
          "base_uri": "https://localhost:8080/"
        },
        "id": "o5vbMcs4amXn",
        "outputId": "f081c832-491a-4bb9-de07-23b278ec41a2"
      },
      "execution_count": null,
      "outputs": [
        {
          "output_type": "stream",
          "name": "stdout",
          "text": [
            "halo polibatam!\n",
            "halo polibatam!\n",
            "halo polibatam!\n",
            "halo polibatam!\n",
            "halo polibatam!\n",
            "halo polibatam!\n"
          ]
        }
      ]
    },
    {
      "cell_type": "code",
      "source": [
        "# praktikum\n",
        "# menggunakan continue\n",
        "for i in range(10):\n",
        "  if i % 2 == 0:\n",
        "    continue\n",
        "  print(f\"angka ganjil: {i}\")\n",
        "\n",
        "# contoh praktis\n",
        "angka = [2, 4, -1, 6, 8]\n",
        "for nilai in angka:\n",
        "  if nilai<0:\n",
        "    print(\"angka negatif ditemukan!\")\n",
        "    break\n",
        "  print(f\"angka positif: {nilai}\")"
      ],
      "metadata": {
        "colab": {
          "base_uri": "https://localhost:8080/"
        },
        "id": "8k7AFMUMbg5O",
        "outputId": "419c989c-b2c2-4bda-d4ef-657748ea2849"
      },
      "execution_count": null,
      "outputs": [
        {
          "output_type": "stream",
          "name": "stdout",
          "text": [
            "angka ganjil: 1\n",
            "angka ganjil: 3\n",
            "angka ganjil: 5\n",
            "angka ganjil: 7\n",
            "angka ganjil: 9\n",
            "angka positif: 2\n",
            "angka positif: 4\n",
            "angka negatif ditemukan!\n"
          ]
        }
      ]
    },
    {
      "cell_type": "code",
      "source": [
        "# praktikum\n",
        "for x in range(0, 5):\n",
        "  for y in range(0, 5):\n",
        "    print(\"hello polibatam!\")"
      ],
      "metadata": {
        "colab": {
          "base_uri": "https://localhost:8080/"
        },
        "id": "eTjxbC7SdBTM",
        "outputId": "cf44eef8-83c4-4939-c12e-b97c95677b30"
      },
      "execution_count": null,
      "outputs": [
        {
          "output_type": "stream",
          "name": "stdout",
          "text": [
            "hello polibatam!\n",
            "hello polibatam!\n",
            "hello polibatam!\n",
            "hello polibatam!\n",
            "hello polibatam!\n",
            "hello polibatam!\n",
            "hello polibatam!\n",
            "hello polibatam!\n",
            "hello polibatam!\n",
            "hello polibatam!\n",
            "hello polibatam!\n",
            "hello polibatam!\n",
            "hello polibatam!\n",
            "hello polibatam!\n",
            "hello polibatam!\n",
            "hello polibatam!\n",
            "hello polibatam!\n",
            "hello polibatam!\n",
            "hello polibatam!\n",
            "hello polibatam!\n",
            "hello polibatam!\n",
            "hello polibatam!\n",
            "hello polibatam!\n",
            "hello polibatam!\n",
            "hello polibatam!\n"
          ]
        }
      ]
    }
  ]
}