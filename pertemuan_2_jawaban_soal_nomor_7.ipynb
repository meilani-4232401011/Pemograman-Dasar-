{
  "nbformat": 4,
  "nbformat_minor": 0,
  "metadata": {
    "colab": {
      "provenance": [],
      "authorship_tag": "ABX9TyNmo+7nsjMskHSvEFa2FeKk",
      "include_colab_link": true
    },
    "kernelspec": {
      "name": "python3",
      "display_name": "Python 3"
    },
    "language_info": {
      "name": "python"
    }
  },
  "cells": [
    {
      "cell_type": "markdown",
      "metadata": {
        "id": "view-in-github",
        "colab_type": "text"
      },
      "source": [
        "<a href=\"https://colab.research.google.com/github/meilani-4232401011/Pemograman-Dasar-/blob/main/pertemuan_2_jawaban_soal_nomor_7.ipynb\" target=\"_parent\"><img src=\"https://colab.research.google.com/assets/colab-badge.svg\" alt=\"Open In Colab\"/></a>"
      ]
    },
    {
      "cell_type": "code",
      "execution_count": 4,
      "metadata": {
        "colab": {
          "base_uri": "https://localhost:8080/"
        },
        "id": "q9F2jkQNRwBc",
        "outputId": "b5a02f18-7914-4cd3-cefb-bfd1e1bda0fd"
      },
      "outputs": [
        {
          "output_type": "stream",
          "name": "stdout",
          "text": [
            "meilani\n",
            "20\n",
            "Rpe\n",
            "3\n",
            "False\n"
          ]
        }
      ],
      "source": [
        "#  Annotation tanpa anotasi (tipe data implisit)\n",
        "nama = \"meilani\"\n",
        "umur = \"20\"\n",
        "jurusan = \"Rpe\"\n",
        "semester = \"3\"\n",
        "status_lulus = False\n",
        "\n",
        "# Annotation dengan anotasi (tipe data eksplisit)\n",
        "nama : str = \"meilani\"\n",
        "umur : int = \"20\"\n",
        "jurusan : str = \"Rpe\"\n",
        "semester : int = \"3\"\n",
        "status_lulus : bool = False\n",
        "\n",
        "\n",
        "print(nama)\n",
        "print(umur)\n",
        "print(jurusan)\n",
        "print(semester)\n",
        "print(status_lulus)\n"
      ]
    }
  ]
}