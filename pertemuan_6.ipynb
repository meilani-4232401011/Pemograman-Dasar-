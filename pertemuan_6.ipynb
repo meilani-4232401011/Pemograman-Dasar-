{
  "nbformat": 4,
  "nbformat_minor": 0,
  "metadata": {
    "colab": {
      "provenance": [],
      "authorship_tag": "ABX9TyPoahtjxLMsIGaOe2mQmYT2",
      "include_colab_link": true
    },
    "kernelspec": {
      "name": "python3",
      "display_name": "Python 3"
    },
    "language_info": {
      "name": "python"
    }
  },
  "cells": [
    {
      "cell_type": "markdown",
      "metadata": {
        "id": "view-in-github",
        "colab_type": "text"
      },
      "source": [
        "<a href=\"https://colab.research.google.com/github/meilani-4232401011/Pemograman-Dasar-/blob/main/pertemuan_6.ipynb\" target=\"_parent\"><img src=\"https://colab.research.google.com/assets/colab-badge.svg\" alt=\"Open In Colab\"/></a>"
      ]
    },
    {
      "cell_type": "code",
      "execution_count": null,
      "metadata": {
        "colab": {
          "base_uri": "https://localhost:8080/"
        },
        "id": "LWmOhu-p9bfG",
        "outputId": "c2f4c2fe-0bcc-45d6-c2cf-d52e08137f42"
      },
      "outputs": [
        {
          "output_type": "stream",
          "name": "stdout",
          "text": [
            "===== BIODATA PRAKTIKAN =====\n",
            "nama    : meilani\n",
            "nim     : 4232401011\n",
            "prodi   : rpe\n",
            "kelas   : pagi A\n",
            "hobi    : makeup, mancing, dan travel\n",
            "========== Selesai ==========\n"
          ]
        }
      ],
      "source": [
        "#soal pertama\n",
        "def biodata():\n",
        "  \"menampilkan biodata lengkap praktikan.\"\n",
        "  print(\"===== BIODATA PRAKTIKAN =====\")\n",
        "  print(\"nama    : meilani\")\n",
        "  print(\"nim     : 4232401011\")\n",
        "  print(\"prodi   : rpe\")\n",
        "  print(\"kelas   : pagi A\")\n",
        "  print(\"hobi    : makeup, mancing, dan travel\")\n",
        "  print(\"========== Selesai ==========\")\n",
        "\n",
        "biodata()"
      ]
    },
    {
      "cell_type": "code",
      "source": [
        "#soal kedua\n",
        "def hitung_volume_balok(panjang, lebar, tinggi):\n",
        "  \"menghitung volume balok dari panjang, lebar, dan tinggi\"\n",
        "  return panjang * lebar * tinggi\n",
        "p = 20\n",
        "l = 10\n",
        "t = 20\n",
        "print(f\"volume balok dengan panjang {p}, lebar {l}, tinggi {t} adalah : {hitung_volume_balok(p, l, t)}\")"
      ],
      "metadata": {
        "colab": {
          "base_uri": "https://localhost:8080/"
        },
        "id": "VPhZNWLk_hOK",
        "outputId": "7b182afb-23b3-4692-cab8-b9c771ad6ad7"
      },
      "execution_count": null,
      "outputs": [
        {
          "output_type": "stream",
          "name": "stdout",
          "text": [
            "volume balok dengan panjang 20, lebar 10, tinggi 20 adalah : 4000\n"
          ]
        }
      ]
    },
    {
      "cell_type": "code",
      "source": [
        "#soal ketiga\n",
        "def hitung_rata_rata(data_nilai):\n",
        "  \"menghitung rata-rata dari list angka menggunakan perulangan for dan pengecekan nilai.\"\n",
        "  total = 0\n",
        "  jumlah_data = 0\n",
        "\n",
        "  for nilai in data_nilai:\n",
        "    if 0 <= nilai <= 100:\n",
        "      total += nilai\n",
        "      jumlah_data += 1\n",
        "    else:\n",
        "      print(f\"nilai {nilai} tidak valid dan tidak dihitung dalam rata-rata.\")\n",
        "  if jumlah_data > 0:\n",
        "    return total / jumlah_data\n",
        "  return 0\n",
        "nilai_praktikum = [85, 78, 92, 65, 90, 150, -5]\n",
        "print(f\"nilai rata-rata kelas adalah: {hitung_rata_rata(nilai_praktikum)}\")"
      ],
      "metadata": {
        "colab": {
          "base_uri": "https://localhost:8080/"
        },
        "id": "jS_t1NlJA9_0",
        "outputId": "6df10900-204f-4d8e-93ad-28f998949f74"
      },
      "execution_count": null,
      "outputs": [
        {
          "output_type": "stream",
          "name": "stdout",
          "text": [
            "nilai 150 tidak valid dan tidak dihitung dalam rata-rata.\n",
            "nilai -5 tidak valid dan tidak dihitung dalam rata-rata.\n",
            "nilai rata-rata kelas adalah: 82.0\n"
          ]
        }
      ]
    },
    {
      "cell_type": "code",
      "source": [
        "#soal keempat\n",
        "def tentukan_predikat(skor):\n",
        "    \"\"\"Menentukan predikat (A, B, C, D, E) berdasarkan skor dengan pengecekan tipe data.\"\"\"\n",
        "\n",
        "    if not isinstance(skor, (int, float)):\n",
        "        return \"Error: Input harus berupa angka.\"\n",
        "\n",
        "    if skor >= 85:\n",
        "        return \"A\"\n",
        "    elif skor >= 70:\n",
        "        return \"B\"\n",
        "    elif skor >= 60:\n",
        "        return \"C\"\n",
        "    elif skor >= 50:\n",
        "        return \"D\"\n",
        "    elif skor >= 0:\n",
        "        return \"E\"\n",
        "    else:\n",
        "        return \"Error: Skor tidak boleh negatif.\"\n",
        "\n",
        "print(f\"skor 55 mendapat predikat: {tentukan_predikat(55)}\")\n",
        "print(f\"skor 60 mendapat predikat: {tentukan_predikat(60)}\")\n",
        "print(f\"Skor 75 mendapat predikat: {tentukan_predikat(75)}\")\n",
        "print(f\"skor 90 mendapat predikat: {tentukan_predikat(90)}\")\n",
        "print(f\"Skor 48 mendapat predikat: {tentukan_predikat(48)}\")\n",
        "print(f\"Skor -10 mendapat predikat: {tentukan_predikat(-10)}\")"
      ],
      "metadata": {
        "colab": {
          "base_uri": "https://localhost:8080/"
        },
        "id": "TthkTvdpNgUX",
        "outputId": "41201dd8-954b-47ea-e7b7-510d70ef4c23"
      },
      "execution_count": 3,
      "outputs": [
        {
          "output_type": "stream",
          "name": "stdout",
          "text": [
            "skor 55 mendapat predikat: D\n",
            "skor 60 mendapat predikat: C\n",
            "Skor 75 mendapat predikat: B\n",
            "skor 90 mendapat predikat: A\n",
            "Skor 48 mendapat predikat: E\n",
            "Skor -10 mendapat predikat: Error: Skor tidak boleh negatif.\n"
          ]
        }
      ]
    },
    {
      "cell_type": "code",
      "source": [
        "#soal kelima\n",
        "def hitung_faktorial(n):\n",
        "    \"\"\"Menghitung faktorial dari bilangan positif n dengan penanganan kasus khusus.\"\"\"\n",
        "\n",
        "    if n < 0:\n",
        "        return \"Error: Faktorial tidak terdefinisi untuk bilangan negatif.\"\n",
        "    elif n == 0:\n",
        "        return 1\n",
        "\n",
        "    hasil = 1\n",
        "\n",
        "    while n > 1:\n",
        "        hasil *= n\n",
        "        n -= 1\n",
        "    return hasil\n",
        "\n",
        "bilangan_n = 4\n",
        "print(f\"Faktorial dari {bilangan_n} adalah: {hitung_faktorial(bilangan_n)}\")\n",
        "print(f\"Faktorial dari 0 adalah: {hitung_faktorial(0)}\")\n",
        "print(f\"Faktorial dari -3 adalah: {hitung_faktorial(-3)}\")"
      ],
      "metadata": {
        "colab": {
          "base_uri": "https://localhost:8080/"
        },
        "id": "z9ZKRZQGNYUj",
        "outputId": "ad56f5b4-a3f8-42b0-aff3-aaae5bbbce4c"
      },
      "execution_count": null,
      "outputs": [
        {
          "output_type": "stream",
          "name": "stdout",
          "text": [
            "Faktorial dari 4 adalah: 24\n",
            "Faktorial dari 0 adalah: 1\n",
            "Faktorial dari -3 adalah: Error: Faktorial tidak terdefinisi untuk bilangan negatif.\n"
          ]
        }
      ]
    },
    {
      "cell_type": "code",
      "source": [
        "# soal keenam\n",
        "def analisis_suhu(data_suhu, batas_panas=35, batas_dingin=15):\n",
        "    \"\"\"Menghitung jumlah hari Panas dan Dingin dari data_suhu.\"\"\"\n",
        "\n",
        "    panas_count = 0\n",
        "    dingin_count = 0\n",
        "\n",
        "    for suhu in data_suhu:\n",
        "        if suhu >= batas_panas:\n",
        "            panas_count += 1\n",
        "        elif suhu <= batas_dingin:\n",
        "            dingin_count += 1\n",
        "\n",
        "    return panas_count, dingin_count\n",
        "\n",
        "suhu_mingguan = [36, 30, 14, 25, 38, 16, 28]\n",
        "jumlah_panas, jumlah_dingin = analisis_suhu(suhu_mingguan)\n",
        "print(f\"Jumlah hari Panas (≥{35}°C): {jumlah_panas}\")\n",
        "print(f\"Jumlah hari Dingin (≤{15}°C): {jumlah_dingin}\")\n",
        "\n",
        "jumlah_panas2, jumlah_dingin2 = analisis_suhu(suhu_mingguan, batas_panas=33, batas_dingin=18)\n",
        "print(f\"\\nDengan batas baru (Panas>=33, Dingin<=18):\")\n",
        "print(f\"Hari Panas: {jumlah_panas2}\")\n",
        "print(f\"Hari Dingin: {jumlah_dingin2}\")"
      ],
      "metadata": {
        "colab": {
          "base_uri": "https://localhost:8080/"
        },
        "id": "JxZKizWRiGPC",
        "outputId": "ba3db887-e6e0-494a-d138-4b031198f94a"
      },
      "execution_count": 14,
      "outputs": [
        {
          "output_type": "stream",
          "name": "stdout",
          "text": [
            "Jumlah hari Panas (≥35°C): 2\n",
            "Jumlah hari Dingin (≤15°C): 1\n",
            "\n",
            "Dengan batas baru (Panas>=33, Dingin<=18):\n",
            "Hari Panas: 2\n",
            "Hari Dingin: 2\n"
          ]
        }
      ]
    }
  ]
}