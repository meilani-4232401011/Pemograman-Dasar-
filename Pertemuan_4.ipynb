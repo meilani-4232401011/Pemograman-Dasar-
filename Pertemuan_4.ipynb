{
  "nbformat": 4,
  "nbformat_minor": 0,
  "metadata": {
    "colab": {
      "provenance": [],
      "authorship_tag": "ABX9TyMknyURTKdXxN5OpOXo35rx",
      "include_colab_link": true
    },
    "kernelspec": {
      "name": "python3",
      "display_name": "Python 3"
    },
    "language_info": {
      "name": "python"
    }
  },
  "cells": [
    {
      "cell_type": "markdown",
      "metadata": {
        "id": "view-in-github",
        "colab_type": "text"
      },
      "source": [
        "<a href=\"https://colab.research.google.com/github/meilani-4232401011/Pemograman-Dasar-/blob/main/Pertemuan_4.ipynb\" target=\"_parent\"><img src=\"https://colab.research.google.com/assets/colab-badge.svg\" alt=\"Open In Colab\"/></a>"
      ]
    },
    {
      "cell_type": "code",
      "execution_count": null,
      "metadata": {
        "id": "zLr7g5E3W-Mn"
      },
      "outputs": [],
      "source": [
        "# blok kode ini dieksekusi jika kondisi true\n",
        "\n",
        "lampu = True\n",
        "waktu = \"malam\"\n",
        "\n",
        "if waktu == \"siang\":\n",
        "  lampu = True\n",
        "  print(\"Lampu tidak dinyalakan\")"
      ]
    },
    {
      "cell_type": "code",
      "source": [
        "# Program sederhana menggunakan if-else\n",
        "cuaca = \"hujan\"\n",
        "if cuaca == \"hujan\":\n",
        "    print(\"Hari ini hujan, bawa payung.\")\n",
        "else:\n",
        "    print(\"Hari ini tidak hujan, pakai topi.\")\n",
        "\n",
        "cuaca = \"cerah\"\n",
        "if cuaca == \"hujan\":\n",
        "    print(\"Hari ini hujan, bawa payung.\")\n",
        "else:\n",
        "    print(\"Hari ini tidak hujan, pakai topi.\")"
      ],
      "metadata": {
        "colab": {
          "base_uri": "https://localhost:8080/"
        },
        "id": "r1ltpe8jM8xg",
        "outputId": "166185bf-a6d4-4134-f5e4-35750fd44839"
      },
      "execution_count": null,
      "outputs": [
        {
          "output_type": "stream",
          "name": "stdout",
          "text": [
            "Hari ini hujan, bawa payung.\n",
            "Hari ini tidak hujan, pakai topi.\n"
          ]
        }
      ]
    },
    {
      "cell_type": "code",
      "source": [
        "# cek umur\n",
        "umur = 17\n",
        "if int(umur) >= 17:\n",
        "  print(\"kamu boleh membuat sim\")\n",
        "else:\n",
        "  print(\"kamu belum boleh membuat sim\")\n",
        "\n",
        "# cek umur\n",
        "umur = 15\n",
        "if int(umur) >= 17:\n",
        "  print(\"kamu boleh membuat sim\")\n",
        "else:\n",
        "  print(\"kamu belum boleh membuat sim\")"
      ],
      "metadata": {
        "colab": {
          "base_uri": "https://localhost:8080/"
        },
        "id": "MStan6dGNV2H",
        "outputId": "d6a99619-6746-48e0-a328-b15a3ecbf263"
      },
      "execution_count": null,
      "outputs": [
        {
          "output_type": "stream",
          "name": "stdout",
          "text": [
            "kamu boleh membuat sim\n",
            "kamu belum boleh membuat sim\n"
          ]
        }
      ]
    },
    {
      "cell_type": "code",
      "source": [
        "# percabangan if, elif, else\n",
        "suhu = 35\n",
        "cuaca = \"hujan\"\n",
        "if suhu > 30 and cuaca == \"cerah\":\n",
        "  print(\"mungkin ini waktu yang tepat untuk ke pantai.\")\n",
        "elif suhu <= 30 and cuaca == \"cerah\":\n",
        "  print(\"cuaca cerah tapi tidak terlalu panas, cocok untuk jalan-jalan.\")\n",
        "elif cuaca == \"hujan\":\n",
        "  print(\"sebaiknya bawa payung atau tunda rencana ke luar.\")\n",
        "else:\n",
        "  print(\"informasi cuaca tidak pasti.\")"
      ],
      "metadata": {
        "colab": {
          "base_uri": "https://localhost:8080/"
        },
        "id": "ELka_UjsOqtD",
        "outputId": "6a6611ac-3d85-4a33-8d26-dc3bd46efe76"
      },
      "execution_count": null,
      "outputs": [
        {
          "output_type": "stream",
          "name": "stdout",
          "text": [
            "sebaiknya bawa payung atau tunda rencana ke luar.\n"
          ]
        }
      ]
    },
    {
      "cell_type": "code",
      "source": [
        "# praktikum if (percabangan tunggal)\n",
        "umur : int = 18\n",
        "if umur > 17:\n",
        "  print(\"pengunjung adalah orang dewasa.\")"
      ],
      "metadata": {
        "colab": {
          "base_uri": "https://localhost:8080/"
        },
        "id": "07tr5vGqQLL3",
        "outputId": "780b9c0f-7033-46c4-d8a3-cc3e5f06e942"
      },
      "execution_count": null,
      "outputs": [
        {
          "output_type": "stream",
          "name": "stdout",
          "text": [
            "pengunjung adalah orang dewasa.\n"
          ]
        }
      ]
    },
    {
      "cell_type": "code",
      "source": [
        "# praktikum if dan else\n",
        "username = input(\"admin: \")\n",
        "password = input(\"password\")\n",
        "if username == \"mei\" and password == \"1234\" :\n",
        "  print(\"login berhasil\")\n",
        "else:\n",
        "  print(\"login gagal\")"
      ],
      "metadata": {
        "colab": {
          "base_uri": "https://localhost:8080/"
        },
        "id": "WkU2k9JJQ5nS",
        "outputId": "77f6b697-f204-46d1-e7d9-2429e2e8f2cf"
      },
      "execution_count": null,
      "outputs": [
        {
          "output_type": "stream",
          "name": "stdout",
          "text": [
            "admin: mei\n",
            "password1111\n",
            "login gagal\n"
          ]
        }
      ]
    },
    {
      "cell_type": "code",
      "source": [
        "# praktikum mengecek bonus dan diskon\n",
        "total_belanja = input(\"Total belanja: Rp \")\n",
        "bayar = int(total_belanja)\n",
        "if int(total_belanja) > 100000:\n",
        "  print(\"Selamat Karena Belanja > Rp. 100.000 anda mendapat Voucher Makan\")\n",
        "  print(\"dan diskon 5%\")\n",
        "diskon = int(total_belanja) * 5 / 100\n",
        "bayar = int(total_belanja) - diskon\n",
        "print(\"Total yang harus dibayar: Rp %s\" % bayar)\n",
        "print(\"Terima kasih sudah berbelanja di Toko Kami\")\n",
        "print(\"Kami Tunggu kunjungan anda selanjutnya.\")"
      ],
      "metadata": {
        "colab": {
          "base_uri": "https://localhost:8080/"
        },
        "id": "Hn4rzmcbeqZy",
        "outputId": "92febe22-52d1-4ecc-fad9-4a9f63edc8ee"
      },
      "execution_count": null,
      "outputs": [
        {
          "output_type": "stream",
          "name": "stdout",
          "text": [
            "Total belanja: Rp 176000\n",
            "Selamat Karena Belanja > Rp. 100.000 anda mendapat Voucher Makan\n",
            "dan diskon 5%\n",
            "Total yang harus dibayar: Rp 167200.0\n",
            "Terima kasih sudah berbelanja di Toko Kami\n",
            "Kami Tunggu kunjungan anda selanjutnya.\n"
          ]
        }
      ]
    },
    {
      "cell_type": "code",
      "source": [
        "# praktikum untuk memeriksa apakah ada notifikasi baru\n",
        "ada_notifikasi_baru : bool = False\n",
        "if ada_notifikasi_baru:\n",
        "  print(\"anda memiliki pesan baru!\")"
      ],
      "metadata": {
        "id": "uvhQX2V5iXvW"
      },
      "execution_count": null,
      "outputs": []
    },
    {
      "cell_type": "code",
      "source": [
        "# praktikum if dan else\n",
        "umur = input(\"Berapa umur kamu: \")\n",
        "if int(umur) >= 18:\n",
        "    print(\"Kamu boleh membuat SIM\")\n",
        "else:\n",
        "    print(\"Kamu belum boleh membuat SIM\")\n"
      ],
      "metadata": {
        "colab": {
          "base_uri": "https://localhost:8080/"
        },
        "id": "_hReL74mkvhK",
        "outputId": "b02f1906-0de2-45a2-9726-42c2916b0aff"
      },
      "execution_count": null,
      "outputs": [
        {
          "output_type": "stream",
          "name": "stdout",
          "text": [
            "Berapa umur kamu: 20\n",
            "Kamu boleh membuat SIM\n"
          ]
        }
      ]
    },
    {
      "cell_type": "code",
      "source": [
        "# praktikum if dan else\n",
        "total_belanja = 250000\n",
        "if total_belanja > 200000:\n",
        "    diskon = total_belanja * 0.10\n",
        "    total_bayar = total_belanja - diskon\n",
        "    print(f\"Anda mendapat diskon! Total bayar: Rp {total_bayar}\")\n",
        "else:\n",
        "    print(f\"Total bayar: Rp {total_belanja}\")"
      ],
      "metadata": {
        "colab": {
          "base_uri": "https://localhost:8080/"
        },
        "id": "RLGpDL6QpbDZ",
        "outputId": "542456bb-cc29-4781-9b70-6f35503a0043"
      },
      "execution_count": null,
      "outputs": [
        {
          "output_type": "stream",
          "name": "stdout",
          "text": [
            "Anda mendapat diskon! Total bayar: Rp 225000.0\n"
          ]
        }
      ]
    },
    {
      "cell_type": "code",
      "source": [
        "# praktikum if dan else\n",
        "angka = int(input(\"Masukkan bilangan: \"))\n",
        "if angka % 2 == 0:\n",
        "    print(\"Bilangan Genap\")\n",
        "else:\n",
        "    print(\"Bilangan Ganjil\")"
      ],
      "metadata": {
        "colab": {
          "base_uri": "https://localhost:8080/"
        },
        "id": "lXTjL-H9rIog",
        "outputId": "e182d8e1-ff94-4c5b-ec86-f8b90657e473"
      },
      "execution_count": null,
      "outputs": [
        {
          "output_type": "stream",
          "name": "stdout",
          "text": [
            "Masukkan bilangan: 21\n",
            "Bilangan Ganjil\n"
          ]
        }
      ]
    },
    {
      "cell_type": "code",
      "source": [
        "# praktikum if-elif-else\n",
        "nilai = 80\n",
        "if nilai >= 85:\n",
        "    print(\"Luar biasa! Nilai A\")\n",
        "elif nilai >= 70:\n",
        "    print(\"Bagus! Nilai B\")\n",
        "elif nilai >= 55:\n",
        "    print(\"Cukup. Nilai C\")\n",
        "else:\n",
        "    print(\"Nilai kurang, perlu belajar lebih giat.\")"
      ],
      "metadata": {
        "colab": {
          "base_uri": "https://localhost:8080/"
        },
        "id": "oAkH1mdrtqZ0",
        "outputId": "69ca1d80-ee3a-4f20-a6a5-63896f05d535"
      },
      "execution_count": null,
      "outputs": [
        {
          "output_type": "stream",
          "name": "stdout",
          "text": [
            "Bagus! Nilai B\n"
          ]
        }
      ]
    },
    {
      "cell_type": "code",
      "source": [
        "# praktikum if-elif-else\n",
        "# menetukan jenis diskon berdasarkan hari\n",
        "hari = \"senin\"\n",
        "if hari == \"sabtu\" or hari == \"minggu\":\n",
        "    diskon = 0.20  # 20%\n",
        "    print(f\"Selamat! Anda mendapat diskon akhir pekan sebesar {diskon*100}%\")\n",
        "elif hari == \"jumat\":\n",
        "    diskon = 0.15  # 15%\n",
        "    print(f\"Diskon spesial Jumat! Anda mendapat potongan {diskon*100}%\")\n",
        "else:\n",
        "    diskon = 0.05  # 5%\n",
        "    print(f\"Anda mendapat diskon hari biasa sebesar {diskon*100}%\")"
      ],
      "metadata": {
        "colab": {
          "base_uri": "https://localhost:8080/"
        },
        "id": "wInsQSugvBxp",
        "outputId": "4a37bdfc-1bc3-4a11-c18a-6a53149f6e60"
      },
      "execution_count": null,
      "outputs": [
        {
          "output_type": "stream",
          "name": "stdout",
          "text": [
            "Anda mendapat diskon hari biasa sebesar 5.0%\n"
          ]
        }
      ]
    },
    {
      "cell_type": "code",
      "source": [
        "# praktikum if-elif-else\n",
        "# konversi mata uang\n",
        "rupiah = int(input(\"Masukkan jumlah uang (Rp): \"))\n",
        "print(\"1. Dollar (USD)\")\n",
        "print(\"2. Euro (EUR)\")\n",
        "print(\"3. Yen (JPY)\")\n",
        "\n",
        "pilih = int(input(\"Pilih konversi (1/2/3): \"))\n",
        "if pilih == 1:\n",
        "    print(\"Dalam Dollar:\", rupiah / 15000)\n",
        "elif pilih == 2:\n",
        "    print(\"Dalam Euro:\", rupiah / 16000)\n",
        "elif pilih == 3:\n",
        "    print(\"Dalam Yen:\", rupiah / 120)\n",
        "else:\n",
        "    print(\"Pilihan tidak valid\")"
      ],
      "metadata": {
        "colab": {
          "base_uri": "https://localhost:8080/"
        },
        "id": "w9MBbl5cw7Gx",
        "outputId": "5ad99d2b-eb60-4cc0-bb50-43732d488be1"
      },
      "execution_count": null,
      "outputs": [
        {
          "output_type": "stream",
          "name": "stdout",
          "text": [
            "Masukkan jumlah uang (Rp): 900000\n",
            "1. Dollar (USD)\n",
            "2. Euro (EUR)\n",
            "3. Yen (JPY)\n",
            "Pilih konversi (1/2/3): 3\n",
            "Dalam Yen: 7500.0\n"
          ]
        }
      ]
    },
    {
      "cell_type": "code",
      "source": [
        "# Latihan\n",
        "# program cek kelipatan 5\n",
        "angka = int(input(\"Masukkan sebuah angka: \"))\n",
        "if angka % 5 == 0:\n",
        "    print(\"Kelipatan 5\")\n",
        "else:\n",
        "    print(\"Bukan kelipatan 5\")"
      ],
      "metadata": {
        "colab": {
          "base_uri": "https://localhost:8080/"
        },
        "id": "4raBvPXEzaMt",
        "outputId": "ec46e189-31e2-4914-81cf-bfb340522a00"
      },
      "execution_count": null,
      "outputs": [
        {
          "output_type": "stream",
          "name": "stdout",
          "text": [
            "Masukkan sebuah angka: 432\n",
            "Bukan kelipatan 5\n"
          ]
        }
      ]
    },
    {
      "cell_type": "code",
      "source": [
        "# Latihan\n",
        "# menentukan tahun kabisat\n",
        "tahun = int(input(\"Masukkan tahun: \"))\n",
        "if tahun % 400 == 0:\n",
        "    print(\"Tahun Kabisat\")\n",
        "elif tahun % 4 == 0 and tahun % 100 != 0:\n",
        "    print(\"Tahun Kabisat\")\n",
        "else:\n",
        "    print(\"Bukan Tahun Kabisat\")"
      ],
      "metadata": {
        "colab": {
          "base_uri": "https://localhost:8080/"
        },
        "id": "Og72NzdX1BUH",
        "outputId": "697714a3-2e06-4b71-f23e-32b7cde82ee0"
      },
      "execution_count": null,
      "outputs": [
        {
          "output_type": "stream",
          "name": "stdout",
          "text": [
            "Masukkan tahun: 2025\n",
            "Bukan Tahun Kabisat\n"
          ]
        }
      ]
    },
    {
      "cell_type": "code",
      "source": [
        "# Latihan\n",
        "# menggunakan if, elif, else\n",
        "a = int(input(\"Masukkan angka pertama: \"))\n",
        "b = int(input(\"Masukkan angka kedua: \"))\n",
        "operasi = input(\"Pilih operasi (+, -, *, /): \")\n",
        "if operasi == \"+\":\n",
        "    print(\"Hasil =\", a + b)\n",
        "elif operasi == \"-\":\n",
        "    print(\"Hasil =\", a - b)\n",
        "elif operasi == \"*\":\n",
        "    print(\"Hasil =\", a * b)\n",
        "elif operasi == \"/\":\n",
        "    if b != 0:\n",
        "        print(\"Hasil =\", a / b)\n",
        "    else:\n",
        "        print(\"Error: pembagi nol\")\n",
        "else:\n",
        "    print(\"Operasi tidak valid\")"
      ],
      "metadata": {
        "colab": {
          "base_uri": "https://localhost:8080/"
        },
        "id": "s0Z7EY5O3q8b",
        "outputId": "f9d21a25-5940-45a0-eb68-d1ae3a21af34"
      },
      "execution_count": null,
      "outputs": [
        {
          "output_type": "stream",
          "name": "stdout",
          "text": [
            "Masukkan angka pertama: 90\n",
            "Masukkan angka kedua: 20\n",
            "Pilih operasi (+, -, *, /): *\n",
            "Hasil = 1800\n"
          ]
        }
      ]
    },
    {
      "cell_type": "code",
      "source": [
        "# Latihan\n",
        "bulan = int(input(\"Masukkan nomor bulan (1-12): \"))\n",
        "if bulan == 1:\n",
        "    print(\"Januari\")\n",
        "elif bulan == 2:\n",
        "    print(\"Februari\")\n",
        "elif bulan == 3:\n",
        "    print(\"Maret\")\n",
        "elif bulan == 4:\n",
        "    print(\"April\")\n",
        "elif bulan == 5:\n",
        "    print(\"Mei\")\n",
        "elif bulan == 6:\n",
        "    print(\"Juni\")\n",
        "elif bulan == 7:\n",
        "    print(\"Juli\")\n",
        "elif bulan == 8:\n",
        "    print(\"Agustus\")\n",
        "elif bulan == 9:\n",
        "    print(\"September\")\n",
        "elif bulan == 10:\n",
        "    print(\"Oktober\")\n",
        "elif bulan == 11:\n",
        "    print(\"November\")\n",
        "elif bulan == 12:\n",
        "    print(\"Desember\")\n",
        "else:\n",
        "    print(\"Input salah\")"
      ],
      "metadata": {
        "colab": {
          "base_uri": "https://localhost:8080/"
        },
        "id": "7yN53GBZ8pqC",
        "outputId": "42c5621e-804f-487b-b529-2e15b97d7540"
      },
      "execution_count": null,
      "outputs": [
        {
          "output_type": "stream",
          "name": "stdout",
          "text": [
            "Masukkan nomor bulan (1-12): 13\n",
            "Input salah\n"
          ]
        }
      ]
    },
    {
      "cell_type": "code",
      "source": [
        "# Latihan\n",
        "jam = int(input(\"Masukkan jam (0-23): \"))\n",
        "if 0 <= jam <= 11:\n",
        "    print(\"Selamat Pagi\")\n",
        "elif 12 <= jam <= 15:\n",
        "    print(\"Selamat Siang\")\n",
        "elif 16 <= jam <= 18:\n",
        "    print(\"Selamat Sore\")\n",
        "elif 19 <= jam <= 23:\n",
        "    print(\"Selamat Malam\")\n",
        "else:\n",
        "    print(\"Input jam tidak valid\")"
      ],
      "metadata": {
        "colab": {
          "base_uri": "https://localhost:8080/"
        },
        "id": "qTJq_SiFAHnr",
        "outputId": "82218cb8-72aa-41b7-a4fe-60dfb3d19b35"
      },
      "execution_count": null,
      "outputs": [
        {
          "output_type": "stream",
          "name": "stdout",
          "text": [
            "Masukkan jam (0-23): 23\n",
            "Selamat Malam\n"
          ]
        }
      ]
    },
    {
      "cell_type": "code",
      "source": [
        "# Tugas\n",
        "print(\"=\"*30)\n",
        "print(\"SELAMAT DATANG DI KAFE MEOW\")\n",
        "print(\"=\"*30)\n",
        "print(\"Menu Makanan & Minuman:\")\n",
        "print(\"1. Matcha     - Rp. 25.000\")\n",
        "print(\"2. Thaitea    - Rp. 20.000\")\n",
        "print(\"3. Capuccino  - Rp. 20.000\")\n",
        "print(\"4. Expresso   - Rp. 15.000\")\n",
        "print(\"=\"*30)\n",
        "pilihan_str = input(\"Silakan masukkan nomor pilihan Anda (1-4): \")\n",
        "pilihan = int(pilihan_str)\n",
        "nama_pesanan = \"\"\n",
        "harga = 0\n",
        "\n",
        "if pilihan == 1:\n",
        "    nama_pesanan = \"Matcha\"\n",
        "    harga = 25000\n",
        "elif pilihan == 2:\n",
        "    nama_pesanan = \"Thaitea\"\n",
        "    harga = 20000\n",
        "elif pilihan == 3:\n",
        "    nama_pesanan = \"Capuccino\"\n",
        "    harga = 20000\n",
        "elif pilihan == 4:\n",
        "    nama_pesanan = \"Expresso\"\n",
        "    harga = 15000\n",
        "else:\n",
        "    print(\"Maaf, pilihan menu tidak valid. Silakan jalankan ulang program.\")\n",
        "\n",
        "jumlah = int(input(f\"Masukkan jumlah {nama_pesanan} yang dibeli: \"))\n",
        "total = harga * jumlah\n",
        "\n",
        "# Menentukan kategori diskon\n",
        "if total >= 100000:\n",
        "    diskon = 0.70\n",
        "elif total >= 50000:\n",
        "    diskon = 0.50\n",
        "elif total >= 30000:\n",
        "    diskon = 0.30\n",
        "else:\n",
        "    diskon = 0\n",
        "\n",
        "potongan = total * diskon\n",
        "total_bayar = total - potongan\n",
        "\n",
        "print(f\"\\nTotal belanja sebelum diskon: Rp{total}\")\n",
        "print(f\"Diskon {int(diskon * 100)}%: Rp{potongan}\")\n",
        "print(f\"Total yang harus dibayar: Rp{total_bayar}\")\n",
        "\n",
        "uang_dibayar = int(input(\"Masukkan jumlah uang Anda: Rp \"))\n",
        "if uang_dibayar >= total_bayar:\n",
        "    kembalian = uang_dibayar - total_bayar\n",
        "    print(\"\\n===== STRUK PEMBAYARAN =====\")\n",
        "    print(f\"Pesanan Anda : {nama_pesanan}\")\n",
        "    print(f\"Jumlah       : {jumlah}\")\n",
        "    print(f\"Total Harga  : Rp{total}\")\n",
        "    print(f\"Diskon       : {int(diskon*100)}%\")\n",
        "    print(f\"Total Bayar  : Rp{total_bayar}\")\n",
        "    print(f\"Uang Bayar   : Rp{uang_dibayar}\")\n",
        "    print(f\"Kembalian    : Rp{kembalian}\")\n",
        "    print(\"==============================\")\n",
        "    print(\"Terima kasih telah berbelanja di Kafe Meow!\")\n",
        "else:\n",
        "    kekurangan = total_bayar - uang_dibayar\n",
        "    print(f\"Maaf, uang Anda kurang sebesar Rp{kekurangan}\")"
      ],
      "metadata": {
        "colab": {
          "base_uri": "https://localhost:8080/"
        },
        "id": "u49zqDfrMw1o",
        "outputId": "6e2e1d0f-fabb-4a30-80f4-2156c87cd524"
      },
      "execution_count": null,
      "outputs": [
        {
          "output_type": "stream",
          "name": "stdout",
          "text": [
            "==============================\n",
            "SELAMAT DATANG DI KAFE MEOW\n",
            "==============================\n",
            "Menu Makanan & Minuman:\n",
            "1. Matcha     - Rp. 25.000\n",
            "2. Thaitea    - Rp. 20.000\n",
            "3. Capuccino  - Rp. 20.000\n",
            "4. Expresso   - Rp. 15.000\n",
            "==============================\n",
            "Silakan masukkan nomor pilihan Anda (1-4): 2\n",
            "Masukkan jumlah Thaitea yang dibeli: 5\n",
            "\n",
            "Total belanja sebelum diskon: Rp100000\n",
            "Diskon 70%: Rp70000.0\n",
            "Total yang harus dibayar: Rp30000.0\n",
            "Masukkan jumlah uang Anda: Rp 30000\n",
            "\n",
            "===== STRUK PEMBAYARAN =====\n",
            "Pesanan Anda : Thaitea\n",
            "Jumlah       : 5\n",
            "Total Harga  : Rp100000\n",
            "Diskon       : 70%\n",
            "Total Bayar  : Rp30000.0\n",
            "Uang Bayar   : Rp30000\n",
            "Kembalian    : Rp0.0\n",
            "==============================\n",
            "Terima kasih telah berbelanja di Kafe Meow!\n"
          ]
        }
      ]
    }
  ]
}