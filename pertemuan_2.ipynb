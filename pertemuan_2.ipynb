{
  "nbformat": 4,
  "nbformat_minor": 0,
  "metadata": {
    "colab": {
      "provenance": [],
      "authorship_tag": "ABX9TyMJeuYVKZLxQa6GFBcuaRbS",
      "include_colab_link": true
    },
    "kernelspec": {
      "name": "python3",
      "display_name": "Python 3"
    },
    "language_info": {
      "name": "python"
    }
  },
  "cells": [
    {
      "cell_type": "markdown",
      "metadata": {
        "id": "view-in-github",
        "colab_type": "text"
      },
      "source": [
        "<a href=\"https://colab.research.google.com/github/meilani-4232401011/Pemograman-Dasar-/blob/main/pertemuan_2.ipynb\" target=\"_parent\"><img src=\"https://colab.research.google.com/assets/colab-badge.svg\" alt=\"Open In Colab\"/></a>"
      ]
    },
    {
      "cell_type": "code",
      "execution_count": 8,
      "metadata": {
        "colab": {
          "base_uri": "https://localhost:8080/"
        },
        "id": "YdFu-fBL8I2s",
        "outputId": "c8a20500-bee9-44f8-faab-14e5e5a038bf"
      },
      "outputs": [
        {
          "output_type": "stream",
          "name": "stdout",
          "text": [
            "nama : meilani\n",
            "umur : 20\n",
            "jurusan : RPE\n",
            "semester : 3\n",
            "matakuliah : Pemerograman Dasar\n",
            "status_lulus: False\n",
            "agama : islam\n",
            "hobi : ['make up, dengerin lagu, foto langit, tidur']\n",
            "lahir : 27 mei 2005\n",
            "kontak : {'082268186858', 'mmlni'}\n"
          ]
        }
      ],
      "source": [
        "# Dictionary, Biodata\n",
        "nama = \"meilani\"\n",
        "umur = 20\n",
        "jurusan = \"RPE\"\n",
        "semester = 3\n",
        "matakuliah = 'Pemerograman Dasar'\n",
        "status_lulus = False\n",
        "agama = \"islam\"\n",
        "\n",
        "# List\n",
        "hobi = [\"make up, dengerin lagu, foto langit, tidur\"]\n",
        "\n",
        "# Tuple\n",
        "Lahir = (\"27 mei 2005\")\n",
        "\n",
        "# Set\n",
        "kontak = {\"082268186858\", \"mmlni\"}\n",
        "\n",
        "\n",
        "\n",
        "\n",
        "\n",
        "print(\"nama :\", nama)\n",
        "print(\"umur :\", umur)\n",
        "print(\"jurusan :\", jurusan)\n",
        "print(\"semester :\", semester)\n",
        "print('matakuliah :', matakuliah)\n",
        "print(\"status_lulus:\", status_lulus)\n",
        "print(\"agama :\", agama)\n",
        "print(\"hobi :\", hobi)\n",
        "print(\"lahir :\", Lahir)\n",
        "print(\"kontak :\", kontak)\n",
        "\n",
        "\n",
        "\n",
        "\n"
      ]
    }
  ]
}