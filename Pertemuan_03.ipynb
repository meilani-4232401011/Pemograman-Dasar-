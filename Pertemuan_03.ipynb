{
  "cells": [
    {
      "cell_type": "markdown",
      "metadata": {
        "id": "view-in-github",
        "colab_type": "text"
      },
      "source": [
        "<a href=\"https://colab.research.google.com/github/meilani-4232401011/Pemograman-Dasar-/blob/main/Pertemuan_03.ipynb\" target=\"_parent\"><img src=\"https://colab.research.google.com/assets/colab-badge.svg\" alt=\"Open In Colab\"/></a>"
      ]
    },
    {
      "cell_type": "code",
      "execution_count": null,
      "metadata": {
        "colab": {
          "base_uri": "https://localhost:8080/"
        },
        "id": "mb3VHwBee9qM",
        "outputId": "882aa7c1-1945-4073-96aa-3156ebc94d38"
      },
      "outputs": [
        {
          "name": "stdout",
          "output_type": "stream",
          "text": [
            "Berapa porsi makan yang anda beli? :1\n",
            "Siapa Nama Pelanggan? :mei\n"
          ]
        }
      ],
      "source": [
        "# input - output\n",
        "total = float (input(\"Berapa porsi makan yang anda beli? :\"))\n",
        "Nama = str (input(\"Siapa Nama Pelanggan? :\"))"
      ]
    },
    {
      "cell_type": "code",
      "execution_count": null,
      "metadata": {
        "colab": {
          "base_uri": "https://localhost:8080/"
        },
        "id": "K1Bs6LqyhtPP",
        "outputId": "3a8637c5-f719-4a73-cdbb-042de779fdff"
      },
      "outputs": [
        {
          "name": "stdout",
          "output_type": "stream",
          "text": [
            "mei sedang memesan nasi goreng\n",
            "mei sedang memesan nasi goreng\n",
            "mei sedang memesan 2 nasi goreng\n",
            "mei sedang memesan nasi goreng dengan harga 15.000\n",
            "mei sedang memesan nasi goreng\n",
            "mei beli nasi goreng jam a:10 pagi (hexadecimal: a)\n",
            "warung buka pukul 12 pagi\n"
          ]
        }
      ],
      "source": [
        "# input\n",
        "food = \"nasi goreng\"\n",
        "jumlah = 2\n",
        "harga = 15\n",
        "buka_pukul = 10\n",
        "jam = 10\n",
        "# output\n",
        "print(\"mei sedang memesan\", food)\n",
        "print(\"mei sedang memesan \" + food)\n",
        "print(\"mei sedang memesan %d\" % jumlah, food)\n",
        "print(\"mei sedang memesan nasi goreng dengan harga %.3f\" % harga)\n",
        "print(\"mei sedang memesan %s\" % food)\n",
        "print(\"mei beli nasi goreng jam %x:10 pagi (hexadecimal: %x)\" % (jam, jam))\n",
        "print(\"warung buka pukul %o pagi\" % (buka_pukul))"
      ]
    },
    {
      "cell_type": "code",
      "execution_count": null,
      "metadata": {
        "colab": {
          "base_uri": "https://localhost:8080/"
        },
        "id": "GOprVYkQmPZ8",
        "outputId": "75ca2e26-a797-4e97-fe00-fc56a0056ccf"
      },
      "outputs": [
        {
          "name": "stdout",
          "output_type": "stream",
          "text": [
            "Hasil Konversi: 1 Jam, 0 Menit, 0 Detik\n",
            "total detik358200\n",
            "hasil konversi: 99 jam, 300 menit, 0 detik\n"
          ]
        }
      ],
      "source": [
        "# konversi waktu\n",
        "total_detik = 3600\n",
        "jam = total_detik // 3600\n",
        "sisa_detik = total_detik % 3600\n",
        "menit = sisa_detik // 6\n",
        "detik = sisa_detik % 60\n",
        "print(f\"Hasil Konversi: {jam} Jam, {menit} Menit, {detik} Detik\")\n",
        "\n",
        "\n",
        "# konversi waktu (ekspresi)\n",
        "total_detik = int(input(\"total detik\"))\n",
        "jam = total_detik // 3600\n",
        "sisa_detik = total_detik % 3600\n",
        "menit = sisa_detik // 6\n",
        "detik = sisa_detik % 60\n",
        "print(f\"hasil konversi: {jam} jam, {menit} menit, {detik} detik\")\n"
      ]
    },
    {
      "cell_type": "code",
      "execution_count": null,
      "metadata": {
        "colab": {
          "base_uri": "https://localhost:8080/"
        },
        "id": "gS7ud3TrnddS",
        "outputId": "63fd177b-36ce-4bf5-e079-4ab94fe4faac"
      },
      "outputs": [
        {
          "name": "stdout",
          "output_type": "stream",
          "text": [
            "penjumlahan: 35000\n",
            "pengurangan: -5000\n",
            "perkalian: 300000000\n",
            "pembagian: 0.75\n"
          ]
        }
      ],
      "source": [
        "# kalkulator sederhana\n",
        "sate_padang = 15000\n",
        "sate_madura = 20000\n",
        "print(\"penjumlahan:\", sate_padang + sate_madura)\n",
        "print(\"pengurangan:\", sate_padang - sate_madura)\n",
        "print(\"perkalian:\", sate_padang * sate_madura)\n",
        "print(\"pembagian:\", sate_padang / sate_madura)"
      ]
    },
    {
      "cell_type": "code",
      "execution_count": null,
      "metadata": {
        "colab": {
          "base_uri": "https://localhost:8080/"
        },
        "id": "xayxQFcFyg3Q",
        "outputId": "62fda83e-3552-4935-e174-b06824f4f361"
      },
      "outputs": [
        {
          "name": "stdout",
          "output_type": "stream",
          "text": [
            "genap dan positif? True\n"
          ]
        }
      ],
      "source": [
        "# mengecek bilangan\n",
        "bilangan = 8\n",
        "hasil = (bilangan > 0 and (bilangan % 2 == 0))\n",
        "print(\"genap dan positif?\", hasil)"
      ]
    },
    {
      "cell_type": "code",
      "execution_count": null,
      "metadata": {
        "colab": {
          "base_uri": "https://localhost:8080/"
        },
        "id": "FOUVIC2SzK28",
        "outputId": "808b6cbf-142a-4093-9c63-f98abe165ebe"
      },
      "outputs": [
        {
          "name": "stdout",
          "output_type": "stream",
          "text": [
            "Nilai akhir = 81.0\n",
            "matematika : 90\n",
            "fisika : 90\n",
            "bahasa_inggris : 90\n",
            "kimia_dasar : 90\n",
            "plc : 93\n",
            "standar_kelulusan :85\n",
            "nilai mahasiswa: 90.6\n",
            "standar kelulusan: 85\n",
            "apakah mahasiswa lulus?, True\n",
            "perlu remedial?, False\n"
          ]
        }
      ],
      "source": [
        "# menghitung nilai akhir\n",
        "tugas = 80\n",
        "uts = 70\n",
        "uas = 90\n",
        "nilai_akhir = (0.3 * tugas) + (0.3 * uts) + (0.4 * uas)\n",
        "print(\"Nilai akhir =\", nilai_akhir)\n",
        "\n",
        "# ekspresi\n",
        "matematika = int(input(\"matematika : \"))\n",
        "fisika = int(input(\"fisika : \"))\n",
        "bahasa_inggris = int(input(\"bahasa_inggris : \"))\n",
        "kimia_dasar =  int(input(\"kimia_dasar : \"))\n",
        "plc = int(input(\"plc : \"))\n",
        "nilai_mahasiswa = (matematika + fisika + bahasa_inggris + kimia_dasar + plc) / 5\n",
        "standar_kelulusan = int(input(\"standar_kelulusan :\"))\n",
        "apakah_lulus = (nilai_mahasiswa >= standar_kelulusan)\n",
        "perlu_remedial = (nilai_mahasiswa < standar_kelulusan)\n",
        "\n",
        "print(f\"nilai mahasiswa: {nilai_mahasiswa}\")\n",
        "print(f\"standar kelulusan: {standar_kelulusan}\")\n",
        "print(f\"apakah mahasiswa lulus?, {apakah_lulus}\")\n",
        "print(f\"perlu remedial?, {perlu_remedial}\")"
      ]
    },
    {
      "cell_type": "code",
      "execution_count": null,
      "metadata": {
        "colab": {
          "base_uri": "https://localhost:8080/"
        },
        "id": "SvgnP4fe6B9b",
        "outputId": "f81b8db0-a2b2-423e-8339-6a73ed1a29c7"
      },
      "outputs": [
        {
          "name": "stdout",
          "output_type": "stream",
          "text": [
            "total harga setelah diskon = 780000.0\n"
          ]
        }
      ],
      "source": [
        "# belanja\n",
        "belanja_baju = 1200000\n",
        "diskon = (0, 0.35 * belanja_baju) [belanja_baju > 1000000]\n",
        "total_harga = belanja_baju - diskon\n",
        "print(\"total harga setelah diskon =\", total_harga)"
      ]
    },
    {
      "cell_type": "code",
      "execution_count": null,
      "metadata": {
        "colab": {
          "base_uri": "https://localhost:8080/"
        },
        "id": "NWmVfeRfBYy6",
        "outputId": "9646dea4-f4c4-4a1b-89a6-4cf383f8e4f0"
      },
      "outputs": [
        {
          "name": "stdout",
          "output_type": "stream",
          "text": [
            "Masukkan total belanja: 1200000\n",
            "Total harga setelah diskon = 765000.0\n"
          ]
        }
      ],
      "source": [
        "# belanja dengan diskon 35%\n",
        "belanja = int(input(\"Masukkan total belanja: \"))\n",
        "persen_diskon = (0, 0.35)[belanja > 100000]\n",
        "print(\"Total harga setelah diskon =\", total_harga)"
      ]
    },
    {
      "cell_type": "code",
      "execution_count": null,
      "metadata": {
        "colab": {
          "base_uri": "https://localhost:8080/"
        },
        "id": "3xVpyfXt_HQI",
        "outputId": "585455d1-8811-48cf-9a32-a8ae1d4244b6"
      },
      "outputs": [
        {
          "name": "stdout",
          "output_type": "stream",
          "text": [
            "Total harga setelah diskon = 765000.0\n"
          ]
        }
      ],
      "source": [
        "belanja = 850000\n",
        "diskon = (0, 0.1 * belanja)[belanja > 500000]\n",
        "total_harga = belanja - diskon\n",
        "print(\"Total harga setelah diskon =\", total_harga)"
      ]
    },
    {
      "cell_type": "code",
      "execution_count": null,
      "metadata": {
        "colab": {
          "base_uri": "https://localhost:8080/"
        },
        "id": "UQvubFeOGAyo",
        "outputId": "1ff2b5a2-ec4f-440d-9eb2-cb2949859102"
      },
      "outputs": [
        {
          "name": "stdout",
          "output_type": "stream",
          "text": [
            "Masukkan tahun: 2024\n",
            "Apakah tahun 2024 merupakan tahun kabisat? True\n"
          ]
        }
      ],
      "source": [
        "# Latihan nomor 1\n",
        "tahun = int(input(\"Masukkan tahun: \"))\n",
        "kabisat = (tahun % 4 == 0 and tahun % 100 != 0) or (tahun % 400 == 0)\n",
        "print(\"Apakah tahun\", tahun, \"merupakan tahun kabisat?\", kabisat)"
      ]
    },
    {
      "cell_type": "code",
      "execution_count": null,
      "metadata": {
        "colab": {
          "base_uri": "https://localhost:8080/"
        },
        "id": "uh7br-ZoH7NG",
        "outputId": "b83de08b-f628-42d7-e6f8-30e5afa76ae1"
      },
      "outputs": [
        {
          "name": "stdout",
          "output_type": "stream",
          "text": [
            "Masukkan panjang: 10\n",
            "Masukkan lebar: 5\n",
            "Luas persegi panjang adalah = 50.0\n"
          ]
        }
      ],
      "source": [
        "# Latihan nomor 2 buat program sederhana\n",
        "# fungsi input\n",
        "panjang = float(input(\"Masukkan panjang: \"))\n",
        "lebar = float(input(\"Masukkan lebar: \"))\n",
        "\n",
        "# fungsi proses (aritmatika)\n",
        "luas = panjang * lebar\n",
        "\n",
        "# fungsi output\n",
        "print(\"Luas persegi panjang adalah =\", luas)\n"
      ]
    },
    {
      "cell_type": "code",
      "source": [
        "# TUGAS\n",
        "# Input\n",
        "subtotal = float(input(\"Masukkan total belanja (Rp): \"))\n",
        "member = int(input(\"Apakah pelanggan member? (1 = Ya, 0 = Tidak): \"))\n",
        "\n",
        "# Hitung syarat diskon (boolean -> int)\n",
        "syarat_diskon = int((member == 1) and (subtotal > 100000))\n",
        "\n",
        "# Hitung jumlah diskon (15% jika syarat terpenuhi, 0 jika tidak)\n",
        "diskon = subtotal * 0.15 * syarat_diskon\n",
        "\n",
        "# Hitung harga setelah diskon\n",
        "harga_setelah_diskon = subtotal - diskon\n",
        "\n",
        "# Hitung PPN 11%\n",
        "ppn = harga_setelah_diskon * 0.11\n",
        "\n",
        "# Hitung total akhir\n",
        "total_akhir = harga_setelah_diskon + ppn\n",
        "\n",
        "# Output\n",
        "print(\"Subtotal          : Rp\", subtotal)\n",
        "print(\"Diskon            : Rp\", diskon)\n",
        "print(\"Harga setelah diskon : Rp\", harga_setelah_diskon)\n",
        "print(\"PPN (11%)         : Rp\", ppn)\n",
        "print(\"Total yang harus dibayar: Rp\", total_akhir)"
      ],
      "metadata": {
        "colab": {
          "base_uri": "https://localhost:8080/"
        },
        "id": "654mu28_WN0j",
        "outputId": "d528a685-43c5-4762-8120-e56e72f013f4"
      },
      "execution_count": 4,
      "outputs": [
        {
          "output_type": "stream",
          "name": "stdout",
          "text": [
            "Masukkan total belanja (Rp): 175600\n",
            "Apakah pelanggan member? (1 = Ya, 0 = Tidak): 1\n",
            "Subtotal          : Rp 175600.0\n",
            "Diskon            : Rp 26340.0\n",
            "Harga setelah diskon : Rp 149260.0\n",
            "PPN (11%)         : Rp 16418.6\n",
            "Total yang harus dibayar: Rp 165678.6\n"
          ]
        }
      ]
    }
  ],
  "metadata": {
    "colab": {
      "provenance": [],
      "authorship_tag": "ABX9TyNQ34EKz3HgfujzBqC3Pqnc",
      "include_colab_link": true
    },
    "kernelspec": {
      "display_name": "Python 3",
      "name": "python3"
    },
    "language_info": {
      "name": "python"
    }
  },
  "nbformat": 4,
  "nbformat_minor": 0
}