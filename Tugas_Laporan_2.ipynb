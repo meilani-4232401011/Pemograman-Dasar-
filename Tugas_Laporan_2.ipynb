{
  "nbformat": 4,
  "nbformat_minor": 0,
  "metadata": {
    "colab": {
      "provenance": [],
      "authorship_tag": "ABX9TyNT55QlIfgcf2VPn1rmA2y+",
      "include_colab_link": true
    },
    "kernelspec": {
      "name": "python3",
      "display_name": "Python 3"
    },
    "language_info": {
      "name": "python"
    }
  },
  "cells": [
    {
      "cell_type": "markdown",
      "metadata": {
        "id": "view-in-github",
        "colab_type": "text"
      },
      "source": [
        "<a href=\"https://colab.research.google.com/github/meilani-4232401011/Pemograman-Dasar-/blob/main/Tugas_Laporan_2.ipynb\" target=\"_parent\"><img src=\"https://colab.research.google.com/assets/colab-badge.svg\" alt=\"Open In Colab\"/></a>"
      ]
    },
    {
      "cell_type": "code",
      "execution_count": null,
      "metadata": {
        "colab": {
          "base_uri": "https://localhost:8080/"
        },
        "id": "-7fs-LJBfbjg",
        "outputId": "426fec21-06a1-44f5-ec0c-2aa18a6a9555"
      },
      "outputs": [
        {
          "output_type": "stream",
          "name": "stdout",
          "text": [
            "FirstName : Meilani\n",
            "LastName : Mei\n",
            "Age : 20\n",
            "isMarried : False\n"
          ]
        }
      ],
      "source": [
        "# TODO\n",
        "FirstName = 'Meilani'\n",
        "LastName = 'Mei'\n",
        "Age = 20\n",
        "isMarried = False\n",
        "\n",
        "print(\"FirstName :\", FirstName)\n",
        "print(\"LastName :\", LastName)\n",
        "print(\"Age :\", 20)\n",
        "print(\"isMarried :\", isMarried)"
      ]
    },
    {
      "cell_type": "code",
      "source": [
        "# TODO\n",
        "Data_Diri = {'FirstName' : 'Meilani' , 'LastName' : 'Mei' , 'Age' : '20',\n",
        "             'isMarried' : False}\n",
        "\n",
        "print(Data_Diri)"
      ],
      "metadata": {
        "id": "aVQdmXtmgvf9",
        "colab": {
          "base_uri": "https://localhost:8080/"
        },
        "outputId": "34e8fa35-4ee2-4bd0-d6d0-5042c3b11c5f"
      },
      "execution_count": null,
      "outputs": [
        {
          "output_type": "stream",
          "name": "stdout",
          "text": [
            "{'FirstName': 'Meilani', 'LastName': 'Mei', 'Age': '20', 'isMarried': False}\n"
          ]
        }
      ]
    },
    {
      "cell_type": "code",
      "source": [
        "# TODO\n",
        "daftar_inpeksi: list[str] = [\n",
        "\"pemahaman terhadap rencana dan desain\",\n",
        "\"ketersediaan bahan dan peralatan\",\n",
        "\"pengawasan pekerjaan\",\n",
        "\"kualitas konstruksi\",\n",
        "\"keselamatan kerja\",\n",
        "\"koordinasi dengan pemilik proyek\"\n",
        "]\n",
        "\n",
        "print(\"daftar_inpeksi:\")\n",
        "for item in daftar_inpeksi:\n",
        "    print(\"-\", item)"
      ],
      "metadata": {
        "colab": {
          "base_uri": "https://localhost:8080/"
        },
        "id": "6NgaTBAEpN6U",
        "outputId": "b2528393-fc8c-4720-91fd-d660222a5381"
      },
      "execution_count": null,
      "outputs": [
        {
          "output_type": "stream",
          "name": "stdout",
          "text": [
            "daftar_inpeksi:\n",
            "- pemahaman terhadap rencana dan desain\n",
            "- ketersediaan bahan dan peralatan\n",
            "- pengawasan pekerjaan\n",
            "- kualitas konstruksi\n",
            "- keselamatan kerja\n",
            "- koordinasi dengan pemilik proyek\n"
          ]
        }
      ]
    },
    {
      "cell_type": "code",
      "source": [
        "# waktu_datang\n",
        "startTime = {\n",
        "\"HH:9\",\n",
        "\"mm:23\",\n",
        "\"ss:57\",\n",
        "}\n",
        "\n",
        "# waktu_pulang\n",
        "endTime = {\n",
        "\"HH:15\",\n",
        "\"mm:25\",\n",
        "\"ss:43\",\n",
        "}\n",
        "\n",
        "print(\"waktu_datang :\", startTime)\n",
        "print(\"waktu_pulang :\", endTime)\n"
      ],
      "metadata": {
        "colab": {
          "base_uri": "https://localhost:8080/"
        },
        "id": "jh9hXWiEre3x",
        "outputId": "f9111014-d855-4e88-ffdc-43c3c782011a"
      },
      "execution_count": null,
      "outputs": [
        {
          "output_type": "stream",
          "name": "stdout",
          "text": [
            "waktu_datang : {'HH:9', 'ss:57', 'mm:23'}\n",
            "waktu_pulang : {'HH:15', 'ss:43', 'mm:25'}\n"
          ]
        }
      ]
    },
    {
      "cell_type": "code",
      "source": [
        "# STUDI KASUS : PENGGABUNGAN DAN ANALISIS KATALOG PRODUK\n",
        "# Data katalog dari dua pemasok\n",
        "Katalog_A = {\"cushion\", \"foundation\",\"powder\", \"blush\", \"eyebrow\"}\n",
        "Katalog_B = {\"eyeshedow\", \"mascara\", \"eyeliner\", \"browcara\", \"eyebrow\"}\n",
        "\n",
        "# Data produk yang sedang diskon\n",
        "Produk_Diskon = {\"powder\", \"blush\", \"browcara\"}\n",
        "\n",
        "# 1. Gabungkan katalog_A dan katalog_B menjadi katalog_lengkap\n",
        "Katalog_Lengkap = Katalog_A.union(Katalog_B)\n",
        "\n",
        "# 2. Cari produk yang ada di katalog_lengkap dan juga ada di produk_diskon\n",
        "Produk_Promo_Aktif = Katalog_Lengkap.intersection(Produk_Diskon)\n",
        "print(\"Katalog_A :\", Katalog_A)\n",
        "print(\"Katalog_B :\", Katalog_B)\n",
        "print(\"Produk_Diskon :\", Produk_Diskon)\n",
        "print(\"Katalog_Lengkap :\", Katalog_Lengkap)\n",
        "print(\"Produk_Promo_Aktif :\", Produk_Promo_Aktif)"
      ],
      "metadata": {
        "colab": {
          "base_uri": "https://localhost:8080/"
        },
        "id": "DtEOEW8JwM34",
        "outputId": "c17b9fae-e80b-4889-f57a-c609a5080d74"
      },
      "execution_count": null,
      "outputs": [
        {
          "output_type": "stream",
          "name": "stdout",
          "text": [
            "Katalog_A : {'cushion', 'eyebrow', 'foundation', 'blush', 'powder'}\n",
            "Katalog_B : {'mascara', 'browcara', 'eyebrow', 'eyeshedow', 'eyeliner'}\n",
            "Produk_Diskon : {'browcara', 'blush', 'powder'}\n",
            "Katalog_Lengkap : {'cushion', 'eyeshedow', 'powder', 'mascara', 'browcara', 'eyebrow', 'foundation', 'blush', 'eyeliner'}\n",
            "Produk_Promo_Aktif : {'browcara', 'blush', 'powder'}\n"
          ]
        }
      ]
    },
    {
      "cell_type": "code",
      "source": [],
      "metadata": {
        "id": "6bokjHzZ1iSD"
      },
      "execution_count": null,
      "outputs": []
    }
  ]
}