{
  "nbformat": 4,
  "nbformat_minor": 0,
  "metadata": {
    "colab": {
      "provenance": [],
      "authorship_tag": "ABX9TyNYVlfJY624TJWqB+BzJzbP",
      "include_colab_link": true
    },
    "kernelspec": {
      "name": "python3",
      "display_name": "Python 3"
    },
    "language_info": {
      "name": "python"
    }
  },
  "cells": [
    {
      "cell_type": "markdown",
      "metadata": {
        "id": "view-in-github",
        "colab_type": "text"
      },
      "source": [
        "<a href=\"https://colab.research.google.com/github/meilani-4232401011/Pemograman-Dasar-/blob/main/pertemuan_1.ipynb\" target=\"_parent\"><img src=\"https://colab.research.google.com/assets/colab-badge.svg\" alt=\"Open In Colab\"/></a>"
      ]
    },
    {
      "cell_type": "code",
      "execution_count": 2,
      "metadata": {
        "colab": {
          "base_uri": "https://localhost:8080/"
        },
        "id": "1wdi5FrOfXft",
        "outputId": "0a4c9881-ff76-4e8d-9b9b-74c2df2e1df5"
      },
      "outputs": [
        {
          "output_type": "stream",
          "name": "stdout",
          "text": [
            "Meilani\n",
            "20\n",
            "RPE\n",
            "3\n",
            "Pemerograman Dasar\n",
            "False\n",
            "make up, dengerin lagu, foto langit, tidur\n",
            "indonesia\n",
            "batam 27 mei 2005\n",
            "082268186858\n",
            "mmlni\n",
            "islam\n"
          ]
        }
      ],
      "source": [
        "# Biodata Saya\n",
        "\n",
        "nama = \"Meilani\"\n",
        "umur = 20\n",
        "jurusan = \"RPE\"\n",
        "semester = 3\n",
        "matakuliah = 'Pemerograman Dasar'\n",
        "status_lulus = False\n",
        "hobi = \"make up, dengerin lagu, foto langit, tidur\"\n",
        "negara = \"indonesia\"\n",
        "TTL = \"batam 27 mei 2005\"\n",
        "wa = \"082268186858\"\n",
        "ig = \"mmlni\"\n",
        "agama = \"islam\"\n",
        "\n",
        "print (nama)\n",
        "print (umur)\n",
        "print (jurusan)\n",
        "print (semester)\n",
        "print (matakuliah)\n",
        "print (status_lulus)\n",
        "print (hobi)\n",
        "print (negara)\n",
        "print (TTL)\n",
        "print (wa)\n",
        "print (ig)\n",
        "print (agama)\n"
      ]
    }
  ]
}