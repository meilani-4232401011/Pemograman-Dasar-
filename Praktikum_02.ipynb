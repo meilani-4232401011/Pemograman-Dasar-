{
  "nbformat": 4,
  "nbformat_minor": 0,
  "metadata": {
    "colab": {
      "provenance": [],
      "authorship_tag": "ABX9TyOwDDEZVgX8FPaxMrxlN1yf",
      "include_colab_link": true
    },
    "kernelspec": {
      "name": "python3",
      "display_name": "Python 3"
    },
    "language_info": {
      "name": "python"
    }
  },
  "cells": [
    {
      "cell_type": "markdown",
      "metadata": {
        "id": "view-in-github",
        "colab_type": "text"
      },
      "source": [
        "<a href=\"https://colab.research.google.com/github/meilani-4232401011/Pemograman-Dasar-/blob/main/Praktikum_02.ipynb\" target=\"_parent\"><img src=\"https://colab.research.google.com/assets/colab-badge.svg\" alt=\"Open In Colab\"/></a>"
      ]
    },
    {
      "cell_type": "code",
      "execution_count": null,
      "metadata": {
        "colab": {
          "base_uri": "https://localhost:8080/"
        },
        "id": "IPU7ELM0552J",
        "outputId": "c5ee0e92-d32c-4dd1-f470-0f2fc7f654dc"
      },
      "outputs": [
        {
          "output_type": "stream",
          "name": "stdout",
          "text": [
            "p\n",
            "libatam\n",
            "Hello, nama saya meilani\n",
            "Nama saya meilani\n",
            "Nama saya meilani\n",
            "Nama saya : meilani\n",
            "<class 'list'>\n",
            "[1, 2.2, 'Dicoding']\n",
            "True\n",
            "['indonesia', 2.2, 'polibatam']\n"
          ]
        }
      ],
      "source": [
        "# metode indexing\n",
        "x = 'polibatam'\n",
        "print(x[0])\n",
        "\n",
        "# metode slicing\n",
        "x = 'polibatam'\n",
        "print(x[2:])\n",
        "\n",
        "# metode formatted string\n",
        "nama = \"meilani\"\n",
        "print(f\"Hello, nama saya {nama}\")\n",
        "\n",
        "# metode operator module %\n",
        "nama = \"meilani\"\n",
        "print(\"Nama saya %s\" % (nama))\n",
        "\n",
        "# metode str.format ()\n",
        "nama = \"meilani\"\n",
        "print(\"Nama saya {}\".format(nama))\n",
        "\n",
        "nama = \"meilani\"\n",
        "print(\"Nama saya :\", nama)\n",
        "\n",
        "# metode list\n",
        "x = [1, 2.2, 'Dicoding']\n",
        "print(type(x))\n",
        "\n",
        "x = [1, 2.2, 'Dicoding']\n",
        "print(x)\n",
        "\n",
        "# metode indexing list\n",
        "x = [1, 'polibatam', True, 1.0]\n",
        "print(x[2])\n",
        "\n",
        "# metode mutable list\n",
        "x = [1, 2.2, 'polibatam']\n",
        "x[0] = 'indonesia'\n",
        "print (x)"
      ]
    },
    {
      "cell_type": "code",
      "source": [
        "# deklarasi variabel list\n",
        "numbers = [23, 43, 15, 34]\n",
        "print(\"List awal:\", numbers)\n",
        "\n",
        "# cara mengakses elemen dalam variabel list\n",
        "numbers[0]   # 23\n",
        "numbers[1]   # 43\n",
        "numbers[2]   # 15\n",
        "numbers[3]   # 34\n",
        "print(\"numbers[1] =\", numbers[1])\n",
        "\n",
        "# cara mengubah nilai elemen dalam variabel list\n",
        "numbers[2]   # 51\n",
        "numbers[2]   # 51\n",
        "print(\"Setelah ubah elemen ke-3 jadi 51:\", numbers)"
      ],
      "metadata": {
        "colab": {
          "base_uri": "https://localhost:8080/"
        },
        "id": "XM7i_NgaTG_p",
        "outputId": "d486ebc0-0cb6-40c0-ac7d-098d3861c992"
      },
      "execution_count": null,
      "outputs": [
        {
          "output_type": "stream",
          "name": "stdout",
          "text": [
            "List awal: [23, 43, 15, 34]\n",
            "numbers[1] = 43\n",
            "Setelah ubah elemen ke-3 jadi 51: [23, 43, 15, 34]\n"
          ]
        }
      ]
    },
    {
      "cell_type": "code",
      "source": [
        "# deklarasi variabel list numbers\n",
        "numbers = [1, 2, 3]\n",
        "print(\"awalnya:\", numbers)\n",
        "\n",
        "# menambahkan elemen di indeks ke-4\n",
        "numbers.insert(4, 5)\n",
        "print(\"Setelah insert(4, 5):\", numbers)\n",
        "\n",
        "# mengubah elemen di indeks ke-4\n",
        "numbers[3] = 4\n",
        "print(\"Setelah ubah indeks ke-3 jadi 4:\", numbers)\n",
        "\n",
        "# menghapus elemen indeks ke-2\n",
        "numbers.pop(2)\n",
        "print(\"Setelah pop(2):\", numbers)"
      ],
      "metadata": {
        "colab": {
          "base_uri": "https://localhost:8080/"
        },
        "id": "yfB3KJNWUNYH",
        "outputId": "e9634b0e-de03-4d0d-e00d-95dbb7aaa6dd"
      },
      "execution_count": null,
      "outputs": [
        {
          "output_type": "stream",
          "name": "stdout",
          "text": [
            "awalnya: [1, 2, 3]\n",
            "Setelah insert(4, 5): [1, 2, 3, 5]\n",
            "Setelah ubah indeks ke-3 jadi 4: [1, 2, 3, 4]\n",
            "Setelah pop(2): [1, 2, 4]\n"
          ]
        }
      ]
    },
    {
      "cell_type": "code",
      "source": [
        "# deklarasi variabel list\n",
        "myList = [1, \"Rumah\", 4.5, True, [\"Kamar mandi\", \"Kamar tidur\"]]\n",
        "\n",
        "# akses elemen dalam list\n",
        "print(\"myList[0] =\", myList[0])\n",
        "print(\"myList[1] =\", myList[1])\n",
        "print(\"myList[3] =\", myList[3])\n",
        "print(\"myList[4] =\", myList[4])\n",
        "\n",
        "# akses elemen dalam sublist\n",
        "print(\"myList[4][0] =\", myList[4][0])\n",
        "print(\"myList[4][1] =\", myList[4][1])"
      ],
      "metadata": {
        "colab": {
          "base_uri": "https://localhost:8080/"
        },
        "id": "g0YK9mZ6Ymuy",
        "outputId": "42ede6f4-eb55-40e5-d458-3e888defb88b"
      },
      "execution_count": null,
      "outputs": [
        {
          "output_type": "stream",
          "name": "stdout",
          "text": [
            "myList[0] = 1\n",
            "myList[1] = Rumah\n",
            "myList[3] = True\n",
            "myList[4] = ['Kamar mandi', 'Kamar tidur']\n",
            "myList[4][0] = Kamar mandi\n",
            "myList[4][1] = Kamar tidur\n"
          ]
        }
      ]
    },
    {
      "cell_type": "code",
      "source": [
        "# slicing List\n",
        "x = [\"laptop\", \"monitor\", \"mouse\", \"mousepad\", \"keyboard\", \"webcam\", \"microphone\"]\n",
        "print(x[0:5:2])\n",
        "print(x[1:])\n",
        "print(x[:3])"
      ],
      "metadata": {
        "colab": {
          "base_uri": "https://localhost:8080/"
        },
        "id": "o53reOuXZQjr",
        "outputId": "f6ef484a-69bc-4700-a06c-01c92f1f0422"
      },
      "execution_count": null,
      "outputs": [
        {
          "output_type": "stream",
          "name": "stdout",
          "text": [
            "['laptop', 'mouse', 'keyboard']\n",
            "['monitor', 'mouse', 'mousepad', 'keyboard', 'webcam', 'microphone']\n",
            "['laptop', 'monitor', 'mouse']\n"
          ]
        }
      ]
    },
    {
      "cell_type": "code",
      "source": [
        "# deklarasi variabel tuple\n",
        "numbers = (23, 43, 15, 34)\n",
        "\n",
        "# cara mengakses elemen dalam variabel tuple\n",
        "print(\"Elemen ke-0:\", numbers[0])\n",
        "print(\"Elemen ke-1:\", numbers[1])\n",
        "print(\"Elemen ke-2:\", numbers[2])\n",
        "print(\"Elemen ke-3:\", numbers[3])"
      ],
      "metadata": {
        "colab": {
          "base_uri": "https://localhost:8080/"
        },
        "id": "5OSRBMBfaiBe",
        "outputId": "f2a4f2c8-baa8-45cd-f5ef-5d8589b8a886"
      },
      "execution_count": null,
      "outputs": [
        {
          "output_type": "stream",
          "name": "stdout",
          "text": [
            "Elemen ke-0: 23\n",
            "Elemen ke-1: 43\n",
            "Elemen ke-2: 15\n",
            "Elemen ke-3: 34\n"
          ]
        }
      ]
    },
    {
      "cell_type": "code",
      "source": [
        "# deklarasi variabel set a dan b\n",
        "a = {1, 2, 3}\n",
        "b = {2, 3, 4}\n",
        "# operasi gabungan\n",
        "print(\"Gabungan (union):\", a.union(b))\n",
        "\n",
        "# operasi irisan\n",
        "print(\"Irisan (intersection):\", a.intersection(b))\n",
        "\n",
        "# operasi perbedaan simetris\n",
        "print(\"Perbedaan simetris:\", a.symmetric_difference(b))\n"
      ],
      "metadata": {
        "colab": {
          "base_uri": "https://localhost:8080/"
        },
        "id": "VUioHJQjFdfi",
        "outputId": "5625818d-033d-4f06-e8c1-bb03dfe905d5"
      },
      "execution_count": null,
      "outputs": [
        {
          "output_type": "stream",
          "name": "stdout",
          "text": [
            "Gabungan (union): {1, 2, 3, 4}\n",
            "Irisan (intersection): {2, 3}\n",
            "Perbedaan simetris: {1, 4}\n"
          ]
        }
      ]
    },
    {
      "cell_type": "code",
      "source": [
        "# deklarasi variabel dictionary\n",
        "propertyDetail = {\"numFloors\": 1, \"propertyType\": \"Rumah\", \"hasTerrace\": True, \"hasGarage\": False}\n",
        "\n",
        "# cara mengakses elemen dalam variabel dictionary\n",
        "print(\"Jumlah Lantai:\", propertyDetail[\"numFloors\"])\n",
        "print(\"Jenis Properti:\", propertyDetail[\"propertyType\"])\n",
        "print(\"Ada Teras?:\", propertyDetail[\"hasTerrace\"])\n",
        "print(\"Ada Garasi?:\", propertyDetail[\"hasGarage\"])\n",
        "\n",
        "# cara mengubah nilai elemen dalam variabel dictionary\n",
        "propertyDetail[\"hasTerrace\"] = False\n",
        "\n",
        "print(\"Setelah diubah, Ada Teras?:\", propertyDetail[\"hasTerrace\"])"
      ],
      "metadata": {
        "colab": {
          "base_uri": "https://localhost:8080/"
        },
        "id": "wA-uSmqvGGsX",
        "outputId": "4e8e859d-54ab-4d76-914d-7ced7a4a23c2"
      },
      "execution_count": null,
      "outputs": [
        {
          "output_type": "stream",
          "name": "stdout",
          "text": [
            "Jumlah Lantai: 1\n",
            "Jenis Properti: Rumah\n",
            "Ada Teras?: True\n",
            "Ada Garasi?: False\n",
            "Setelah diubah, Ada Teras?: False\n"
          ]
        }
      ]
    }
  ]
}